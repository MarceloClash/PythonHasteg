{
  "nbformat": 4,
  "nbformat_minor": 0,
  "metadata": {
    "colab": {
      "provenance": [],
      "authorship_tag": "ABX9TyP5Xnsuzvthudycd6wApJoW",
      "include_colab_link": true
    },
    "kernelspec": {
      "name": "python3",
      "display_name": "Python 3"
    },
    "language_info": {
      "name": "python"
    }
  },
  "cells": [
    {
      "cell_type": "markdown",
      "metadata": {
        "id": "view-in-github",
        "colab_type": "text"
      },
      "source": [
        "<a href=\"https://colab.research.google.com/github/MarceloClash/PythonHasteg/blob/main/Format.ipynb\" target=\"_parent\"><img src=\"https://colab.research.google.com/assets/colab-badge.svg\" alt=\"Open In Colab\"/></a>"
      ]
    },
    {
      "cell_type": "markdown",
      "source": [
        "#como usar o format para criar formatações personalizadas em prints e textos\n",
        "O método format() em Python é uma maneira poderosa de formatar strings. Ele permite inserir variáveis em lugares específicos na string e aplicar formatações personalizadas. Aqui estão alguns exemplos de como você pode usar o format() para diferentes formatações:\n"
      ],
      "metadata": {
        "id": "oMGFwZP-vxG5"
      }
    },
    {
      "cell_type": "markdown",
      "source": [
        "#1. Inserindo Variáveis\n",
        "Você pode inserir variáveis em uma string usando chaves {}"
      ],
      "metadata": {
        "id": "bjI1h-rYv6is"
      }
    },
    {
      "cell_type": "code",
      "execution_count": 1,
      "metadata": {
        "colab": {
          "base_uri": "https://localhost:8080/"
        },
        "id": "P18xRDIOvvxY",
        "outputId": "2567afa8-3895-417d-8755-b4d1e6fa451a"
      },
      "outputs": [
        {
          "output_type": "stream",
          "name": "stdout",
          "text": [
            "Meu nome é João e eu tenho 25 anos.\n"
          ]
        }
      ],
      "source": [
        "nome = \"João\"\n",
        "idade = 25\n",
        "mensagem = \"Meu nome é {} e eu tenho {} anos.\".format(nome, idade)\n",
        "print(mensagem)  # Saída: Meu nome é João e eu tenho 25 anos.\n"
      ]
    },
    {
      "cell_type": "markdown",
      "source": [
        "#2. Usando Índices\n",
        "Você pode especificar a ordem das variáveis usando índices numéricos."
      ],
      "metadata": {
        "id": "1_0Z5_t3wOjZ"
      }
    },
    {
      "cell_type": "code",
      "source": [
        "nome = \"Maria\"\n",
        "sobrenome = \"Silva\"\n",
        "mensagem = \"{0} {1} é um ótimo profissional. {0} é engenheira.\".format(nome, sobrenome)\n",
        "print(mensagem)  # Saída: Maria Silva é um ótimo profissional. Maria é engenheira.\n"
      ],
      "metadata": {
        "colab": {
          "base_uri": "https://localhost:8080/"
        },
        "id": "fPR4b0SIwe2V",
        "outputId": "e4a60da7-0a0d-424a-cbb4-cd5fada105ed"
      },
      "execution_count": 2,
      "outputs": [
        {
          "output_type": "stream",
          "name": "stdout",
          "text": [
            "Maria Silva é um ótimo profissional. Maria é engenheira.\n"
          ]
        }
      ]
    },
    {
      "cell_type": "markdown",
      "source": [
        "#3. Nomeando os Campos\n",
        "Você pode usar nomes em vez de índices para tornar a formatação mais clara."
      ],
      "metadata": {
        "id": "xfK_Yzkaw8BA"
      }
    },
    {
      "cell_type": "code",
      "source": [
        "mensagem = \"Meu nome é {nome} e eu sou {profissao}.\".format(nome=\"Marcelo\", profissao=\"programador\")\n",
        "print(mensagem)  # Saída: Meu nome é Carlos e eu sou programador.\n"
      ],
      "metadata": {
        "colab": {
          "base_uri": "https://localhost:8080/"
        },
        "id": "8ud6jtaTxEul",
        "outputId": "618ae85b-72d2-4037-cadf-1482d48619d5"
      },
      "execution_count": 4,
      "outputs": [
        {
          "output_type": "stream",
          "name": "stdout",
          "text": [
            "Meu nome é Marcelo e eu sou programador.\n"
          ]
        }
      ]
    },
    {
      "cell_type": "markdown",
      "source": [
        "#4. Formatação Numérica\n",
        "Você pode especificar a formatação de números, como casas decimais."
      ],
      "metadata": {
        "id": "mwKnnW2YxS_c"
      }
    },
    {
      "cell_type": "code",
      "source": [
        "pi = 3.14159265359\n",
        "mensagem = \"O valor de pi é aproximadamente {:.2f}.\".format(pi)\n",
        "print(mensagem)  # Saída: O valor de pi é aproximadamente 3.14.\n"
      ],
      "metadata": {
        "colab": {
          "base_uri": "https://localhost:8080/"
        },
        "id": "yv9sO1IcxZga",
        "outputId": "772b6171-5e3d-4bab-df6e-6c2fc66d6dea"
      },
      "execution_count": 5,
      "outputs": [
        {
          "output_type": "stream",
          "name": "stdout",
          "text": [
            "O valor de pi é aproximadamente 3.14.\n"
          ]
        }
      ]
    },
    {
      "cell_type": "markdown",
      "source": [
        "#5. Alinhamento de Texto\n",
        "Você pode alinhar o texto à esquerda, direita ou centro usando os caracteres <, > e ^, respectivamente."
      ],
      "metadata": {
        "id": "iK1PGDrlxels"
      }
    },
    {
      "cell_type": "code",
      "source": [
        "mensagem = \"|{:<10}|{:^10}|{:>10}|\".format(\"esq\", \"centro\", \"dir\")\n",
        "print(mensagem)\n",
        "# Saída:\n",
        "# |esq       |  centro  |       dir|\n"
      ],
      "metadata": {
        "colab": {
          "base_uri": "https://localhost:8080/"
        },
        "id": "7wI-RwLYxn88",
        "outputId": "6ae2a8ea-7f46-46ca-e4f3-92e8bdb005fc"
      },
      "execution_count": 6,
      "outputs": [
        {
          "output_type": "stream",
          "name": "stdout",
          "text": [
            "|esq       |  centro  |       dir|\n"
          ]
        }
      ]
    },
    {
      "cell_type": "markdown",
      "source": [
        "#6. Preenchimento com Caracteres\n",
        "Você pode preencher com caracteres usando um especificador de preenchimento."
      ],
      "metadata": {
        "id": "JU2rLqpOx0YE"
      }
    },
    {
      "cell_type": "code",
      "source": [
        "mensagem = \"{:*^20}\".format(\"Python\")\n",
        "print(mensagem)  # Saída: *****Python*****\n"
      ],
      "metadata": {
        "colab": {
          "base_uri": "https://localhost:8080/"
        },
        "id": "-H-0MC5kx8jt",
        "outputId": "b09b2213-ef7a-4563-a5f8-5582655a9a60"
      },
      "execution_count": 7,
      "outputs": [
        {
          "output_type": "stream",
          "name": "stdout",
          "text": [
            "*******Python*******\n"
          ]
        }
      ]
    },
    {
      "cell_type": "markdown",
      "source": [
        "#7. Formatação de Data\n",
        "Se estiver trabalhando com datas, você pode usar format() para exibi-las de forma personalizada"
      ],
      "metadata": {
        "id": "5qFrEV8uyJX9"
      }
    },
    {
      "cell_type": "code",
      "source": [
        "from datetime import datetime\n",
        "data = datetime(2024, 12, 7)\n",
        "mensagem = \"A data é: {:%d/%m/%Y}\".format(data)\n",
        "print(mensagem)  # Saída: A data é: 07/12/2024\n"
      ],
      "metadata": {
        "colab": {
          "base_uri": "https://localhost:8080/"
        },
        "id": "Fhr10_9oyNb4",
        "outputId": "eef42175-3717-4847-d3a3-1da124d73112"
      },
      "execution_count": 10,
      "outputs": [
        {
          "output_type": "stream",
          "name": "stdout",
          "text": [
            "A data é: 07/12/2024\n"
          ]
        }
      ]
    },
    {
      "cell_type": "code",
      "source": [
        "custo = 5000\n",
        "faturamento = 2700\n",
        "lucro = faturamento - custo\n",
        "print('Faturameto foi R${:,.2f} e o lucro foi R${:,.2f}' .format(faturamento, lucro))"
      ],
      "metadata": {
        "colab": {
          "base_uri": "https://localhost:8080/"
        },
        "id": "VVbRY_Cj0V8A",
        "outputId": "329d6523-5b74-4ded-ee97-250027d25856"
      },
      "execution_count": 11,
      "outputs": [
        {
          "output_type": "stream",
          "name": "stdout",
          "text": [
            "Faturameto foi R$2,700.00 e o lucro foi R$-2,300.00\n"
          ]
        }
      ]
    }
  ]
}