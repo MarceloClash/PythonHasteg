{
  "nbformat": 4,
  "nbformat_minor": 0,
  "metadata": {
    "colab": {
      "provenance": [],
      "authorship_tag": "ABX9TyMlizM/diRcdH8TlRb5rZmC",
      "include_colab_link": true
    },
    "kernelspec": {
      "name": "python3",
      "display_name": "Python 3"
    },
    "language_info": {
      "name": "python"
    }
  },
  "cells": [
    {
      "cell_type": "markdown",
      "metadata": {
        "id": "view-in-github",
        "colab_type": "text"
      },
      "source": [
        "<a href=\"https://colab.research.google.com/github/MarceloClash/PythonHasteg/blob/main/lista_tratamento.ipynb\" target=\"_parent\"><img src=\"https://colab.research.google.com/assets/colab-badge.svg\" alt=\"Open In Colab\"/></a>"
      ]
    },
    {
      "cell_type": "markdown",
      "source": [
        "Tratamento de entrada de dados"
      ],
      "metadata": {
        "id": "NJGkyLQpvmKE"
      }
    },
    {
      "cell_type": "code",
      "execution_count": 9,
      "metadata": {
        "colab": {
          "base_uri": "https://localhost:8080/"
        },
        "collapsed": true,
        "id": "6XSfpVjOrMBI",
        "outputId": "f8f3c7fc-8ab1-4404-fbfc-54e5a704e8ec"
      },
      "outputs": [
        {
          "output_type": "stream",
          "name": "stdout",
          "text": [
            "Digite sua idade: 41\n",
            "Digite seu nome: Marcelo\n",
            "Olá Marcelo tudo bem, \n",
            "ficamos felizes pelo seu cadastro.\n",
            "Você tem 41 anos de idade\n",
            "\n",
            "Obrigado pelas sua informações\n"
          ]
        }
      ],
      "source": [
        "idade_str = input('Digite sua idade: ')\n",
        "nome = input('Digite seu nome: ')\n",
        "\n",
        "if nome.strip():\n",
        "  if nome.isalpha():\n",
        "    if idade_str.isdigit():\n",
        "      idade = int(idade_str)\n",
        "      print('Olá {} tudo bem, \\nficamos felizes pelo seu cadastro.\\nVocê tem {} anos de idade' .format(nome, idade))\n",
        "    else:\n",
        "      print('Digite uma idade válida! ')\n",
        "  else:\n",
        "    print('Digite um nome válido! ')\n",
        "print('\\nObrigado pelas sua informações')\n",
        "\n",
        "\n",
        ""
      ]
    },
    {
      "cell_type": "markdown",
      "source": [
        "#1. Faturamento do melhor e do pior mês do ano\n",
        "Qual foi o valor do melhor mês do ano? E valor do pior mês do ano?"
      ],
      "metadata": {
        "id": "Bd8Kf_lzzeNf"
      }
    },
    {
      "cell_type": "code",
      "source": [
        "meses = ['jan', 'fev', 'mar', 'abr', 'mai', 'jun', 'jul', 'ago', 'set', 'out', 'nov', 'dez']\n",
        "vendas_1sem = [25000, 29000, 22200, 17750, 15870, 19900]\n",
        "vendas_2sem = [19850, 20120, 17540, 15555, 49051, 9650]\n",
        "\n",
        "\n",
        "vendas_1sem.extend(vendas_2sem)\n",
        "print(vendas_1sem)\n",
        "maior_valor = max(vendas_1sem)\n",
        "menor_valor = min(vendas_1sem)\n",
        "print(maior_valor)\n",
        "print(menor_valor)"
      ],
      "metadata": {
        "colab": {
          "base_uri": "https://localhost:8080/"
        },
        "id": "1fX8wxGnwBii",
        "outputId": "14c4cd87-1f41-4fb0-f90d-8fdf9d6208e1"
      },
      "execution_count": 90,
      "outputs": [
        {
          "output_type": "stream",
          "name": "stdout",
          "text": [
            "[25000, 29000, 22200, 17750, 15870, 19900, 19850, 20120, 17540, 15555, 49051, 9650]\n",
            "49051\n",
            "9650\n"
          ]
        }
      ]
    },
    {
      "cell_type": "markdown",
      "source": [
        "#2.Continuação\n",
        "Agora relacione as duas listas para printar o melhor mês do ano e o pior do ano.<br>\n",
        "Calcule também o faturamento total do ano e quanto  que o melhor mês representou do faturameto total.<br>\n",
        "obs: Para o faturamento total, pode usar a função sum(lista) que soma todos os itens de uma lista"
      ],
      "metadata": {
        "id": "ipo6diLk1LeY"
      }
    },
    {
      "cell_type": "code",
      "source": [
        "i_maior_valor = vendas_1sem.index(maior_valor)\n",
        "i_menor_valor = vendas_1sem.index(menor_valor)\n",
        "\n",
        "print('O melhor mês do ano foi {} com {} vendas.' .format(meses[i_maior_valor], maior_valor))\n",
        "print('O pior mês do ano foi {} com {} vendas.' .format(meses[i_menor_valor], menor_valor))"
      ],
      "metadata": {
        "colab": {
          "base_uri": "https://localhost:8080/"
        },
        "id": "6fJ0KbmuxN3G",
        "outputId": "758d8b31-a19f-4912-f427-8afd57b3ce19"
      },
      "execution_count": 68,
      "outputs": [
        {
          "output_type": "stream",
          "name": "stdout",
          "text": [
            "O melhor mês do ano foi nov com 49051 vendas.\n",
            "O pior mês do ano foi dez com 9650 vendas.\n"
          ]
        }
      ]
    },
    {
      "cell_type": "code",
      "source": [
        "faturamento_total = sum(vendas_1sem)\n",
        "print('O faturamento total do ano foi de R${:,}' .format(faturamento_total))\n",
        "\n",
        "percentual = maior_valor / faturamento_total\n",
        "print('O melhor mês representou {:.1%} do faturamento total do ano.' .format(percentual))"
      ],
      "metadata": {
        "colab": {
          "base_uri": "https://localhost:8080/"
        },
        "collapsed": true,
        "id": "Fc1zZ4riyh55",
        "outputId": "56da6ae8-966f-42bb-b82c-38a978e1d01e"
      },
      "execution_count": 69,
      "outputs": [
        {
          "output_type": "stream",
          "name": "stdout",
          "text": [
            "O faturamento total do ano foi de R$261,486\n",
            "O melhor mês representou 18.8% do faturamento total do ano.\n"
          ]
        }
      ]
    },
    {
      "cell_type": "markdown",
      "source": [
        "#3. Crie uma lista com o top 3 valores de vendas do ano (sem fazer 'no ollho')"
      ],
      "metadata": {
        "id": "zA9jLnL_5d4b"
      }
    },
    {
      "cell_type": "code",
      "source": [
        "top3 = []\n",
        "print(vendas_1sem)\n",
        "maior_valor = max(vendas_1sem)\n",
        "top3.append(maior_valor)\n",
        "\n",
        "vendas_1sem.remove(maior_valor)\n",
        "print(vendas_1sem)\n",
        "maior_valor = max(vendas_1sem)\n",
        "print(maior_valor)\n",
        "top3.append(maior_valor)\n",
        "vendas_1sem.remove(maior_valor)\n",
        "print(vendas_1sem)\n",
        "maior_valor = max(vendas_1sem)\n",
        "top3.append(maior_valor)\n",
        "print(top3)\n",
        "\n",
        "\n"
      ],
      "metadata": {
        "colab": {
          "base_uri": "https://localhost:8080/"
        },
        "id": "_V7a7dcA5tm-",
        "outputId": "77076575-f2ce-477a-d412-3b6116bd8c1f"
      },
      "execution_count": 91,
      "outputs": [
        {
          "output_type": "stream",
          "name": "stdout",
          "text": [
            "[25000, 29000, 22200, 17750, 15870, 19900, 19850, 20120, 17540, 15555, 49051, 9650]\n",
            "[25000, 29000, 22200, 17750, 15870, 19900, 19850, 20120, 17540, 15555, 9650]\n",
            "29000\n",
            "[25000, 22200, 17750, 15870, 19900, 19850, 20120, 17540, 15555, 9650]\n",
            "[49051, 29000, 25000]\n"
          ]
        }
      ]
    }
  ]
}