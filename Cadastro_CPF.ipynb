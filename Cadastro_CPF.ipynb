{
  "nbformat": 4,
  "nbformat_minor": 0,
  "metadata": {
    "colab": {
      "provenance": [],
      "authorship_tag": "ABX9TyOmsLh/D8LUvzp16+9KAsDh",
      "include_colab_link": true
    },
    "kernelspec": {
      "name": "python3",
      "display_name": "Python 3"
    },
    "language_info": {
      "name": "python"
    }
  },
  "cells": [
    {
      "cell_type": "markdown",
      "metadata": {
        "id": "view-in-github",
        "colab_type": "text"
      },
      "source": [
        "<a href=\"https://colab.research.google.com/github/MarceloClash/PythonHasteg/blob/main/Cadastro_CPF.ipynb\" target=\"_parent\"><img src=\"https://colab.research.google.com/assets/colab-badge.svg\" alt=\"Open In Colab\"/></a>"
      ]
    },
    {
      "cell_type": "markdown",
      "source": [
        "#1.Cadastro de CPF\n",
        "Crie um progama para cadastro de CPF de clientes que recebe o CPF em um input box com números.\n",
        "Ex: 'insira seu CPF (digite apenas numeros)\n",
        "Caso o usuario digite algo diferente de números ou digite menos de 11 caracteres(tamanho do CPF brasileiro), o progama deve exibir uma mensagem de 'Digite seu CPF corretamente e digite apenas números."
      ],
      "metadata": {
        "id": "wdB4WOkwouJP"
      }
    },
    {
      "cell_type": "code",
      "execution_count": 8,
      "metadata": {
        "colab": {
          "base_uri": "https://localhost:8080/"
        },
        "id": "BumSYJJSosKJ",
        "outputId": "39268e30-b0f0-4933-efb4-d6d6af3e821e"
      },
      "outputs": [
        {
          "output_type": "stream",
          "name": "stdout",
          "text": [
            "Digite seu CPF(digite apenas númreros)14253698745\n",
            "14253698745\n"
          ]
        }
      ],
      "source": [
        "cpf = input('Digite seu CPF(digite apenas númreros)')\n",
        "if len(cpf) == 11 and cpf.isnumeric():\n",
        "  print(cpf)\n",
        "else:\n",
        "  print('Digite seu CPF corretamente e digite apenas números')"
      ]
    },
    {
      "cell_type": "markdown",
      "source": [
        "#2. Melhorando nosso Cadastro de CPF\n",
        "Agora além validações anteriores, vamos criar um input que permita que o usuário insira pontos, traços e inclusive espaços vazios.\n",
        "Nosso progama deve 'tratar' o que o usuáriopara padronizar o CPF dele em apenas números.\n",
        "a verificação de tamanho do CPF com 11 caracteres continua valida, mas ela deve ser feita depois de retirar todos os pontos, traços e espaços do CPF que o cliente inserir e, uma vez retirados pontos, traços e espaços, devem sobrar apenas números no CPF. Qualquer outro caractere deve ser considerado inválido.\n",
        "No final, nosso progama deve exibir uma mensagem para o usuário, caso ele tenha inserido o CPF inválido ou então apenas deve printar o CPF correto já só com número."
      ],
      "metadata": {
        "id": "gwLOpsDGrHXu"
      }
    },
    {
      "cell_type": "code",
      "source": [
        "cpf = input('Digite seu CPF: ')\n",
        "# Tratar o cpf\n",
        "# tirar o espaço\n",
        "cpf = cpf.strip()\n",
        "# tirar os pontos\n",
        "cpf = cpf.replace('.', '')\n",
        "# tirar os traços\n",
        "cpf = cpf.replace('-', '')\n",
        "\n",
        "\n",
        "if len(cpf) == 11 and cpf.isnumeric():\n",
        "  print(cpf)\n",
        "else:\n",
        "  print('Digite seu CPF corretamente e digite apenas números')"
      ],
      "metadata": {
        "colab": {
          "base_uri": "https://localhost:8080/"
        },
        "id": "dTVQFwaGs7aH",
        "outputId": "e44fed93-52bc-48ca-b5e6-349bb8dc78d6"
      },
      "execution_count": 12,
      "outputs": [
        {
          "output_type": "stream",
          "name": "stdout",
          "text": [
            "Digite seu CPF:    2569874563-9\n",
            "25698745639\n"
          ]
        }
      ]
    }
  ]
}