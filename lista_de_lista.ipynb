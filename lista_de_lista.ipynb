{
  "nbformat": 4,
  "nbformat_minor": 0,
  "metadata": {
    "colab": {
      "provenance": [],
      "authorship_tag": "ABX9TyMPxKN6kaInUfnvgUKt+sHb",
      "include_colab_link": true
    },
    "kernelspec": {
      "name": "python3",
      "display_name": "Python 3"
    },
    "language_info": {
      "name": "python"
    }
  },
  "cells": [
    {
      "cell_type": "markdown",
      "metadata": {
        "id": "view-in-github",
        "colab_type": "text"
      },
      "source": [
        "<a href=\"https://colab.research.google.com/github/MarceloClash/PythonHasteg/blob/main/lista_de_lista.ipynb\" target=\"_parent\"><img src=\"https://colab.research.google.com/assets/colab-badge.svg\" alt=\"Open In Colab\"/></a>"
      ]
    },
    {
      "cell_type": "code",
      "execution_count": 2,
      "metadata": {
        "colab": {
          "base_uri": "https://localhost:8080/"
        },
        "collapsed": true,
        "id": "x3XGYv739c38",
        "outputId": "5a0c0f96-bf2d-4298-cdef-f5185f1d054b"
      },
      "outputs": [
        {
          "output_type": "stream",
          "name": "stdout",
          "text": [
            "Requirement already satisfied: requests in /usr/local/lib/python3.10/dist-packages (2.32.3)\n",
            "Requirement already satisfied: charset-normalizer<4,>=2 in /usr/local/lib/python3.10/dist-packages (from requests) (3.4.0)\n",
            "Requirement already satisfied: idna<4,>=2.5 in /usr/local/lib/python3.10/dist-packages (from requests) (3.10)\n",
            "Requirement already satisfied: urllib3<3,>=1.21.1 in /usr/local/lib/python3.10/dist-packages (from requests) (2.2.3)\n",
            "Requirement already satisfied: certifi>=2017.4.17 in /usr/local/lib/python3.10/dist-packages (from requests) (2024.8.30)\n"
          ]
        }
      ],
      "source": [
        "!pip install requests\n",
        "\n"
      ]
    },
    {
      "cell_type": "markdown",
      "source": [
        "# Estrutura de Repetição : For"
      ],
      "metadata": {
        "id": "9reCKQaestiA"
      }
    },
    {
      "cell_type": "code",
      "source": [
        "for i in range(10):\n",
        "  print(i,'Marcelo')\n"
      ],
      "metadata": {
        "colab": {
          "base_uri": "https://localhost:8080/"
        },
        "id": "IWCJn7Ab-s8V",
        "outputId": "f2d3d346-89c0-496e-d522-b2cd78700f26"
      },
      "execution_count": 8,
      "outputs": [
        {
          "output_type": "stream",
          "name": "stdout",
          "text": [
            "0 Marcelo\n",
            "1 Marcelo\n",
            "2 Marcelo\n",
            "3 Marcelo\n",
            "4 Marcelo\n",
            "5 Marcelo\n",
            "6 Marcelo\n",
            "7 Marcelo\n",
            "8 Marcelo\n",
            "9 Marcelo\n"
          ]
        }
      ]
    },
    {
      "cell_type": "code",
      "source": [
        "produtos = ['arroz', 'feijao', 'macarrao', 'atum', 'azeite']\n",
        "estoque = [50, 100, 20, 5, 80]"
      ],
      "metadata": {
        "id": "DXjg3BeS-_-W"
      },
      "execution_count": 4,
      "outputs": []
    },
    {
      "cell_type": "code",
      "source": [
        "for i in range(5):\n",
        "  print(f'{produtos[i]} : {estoque[i]}')"
      ],
      "metadata": {
        "colab": {
          "base_uri": "https://localhost:8080/"
        },
        "id": "qrjaWBp6AaRI",
        "outputId": "fa8c4cb9-d012-41f4-a016-33c3fe751a2b"
      },
      "execution_count": 5,
      "outputs": [
        {
          "output_type": "stream",
          "name": "stdout",
          "text": [
            "arroz : 50\n",
            "feijao : 100\n",
            "macarrao : 20\n",
            "atum : 5\n",
            "azeite : 80\n"
          ]
        }
      ]
    },
    {
      "cell_type": "code",
      "source": [
        "produtos = ['coca', 'pepsi', 'guarana', 'sprite', 'fanta']\n",
        "producao = [15000, 17000, 13000, 5000, 250 ]\n",
        "tamanho = len(produtos)\n",
        "for i in range(tamanho):\n",
        "  print(f'{produtos[i]} : {producao[i]}')"
      ],
      "metadata": {
        "id": "veCAO7I2CReM",
        "colab": {
          "base_uri": "https://localhost:8080/"
        },
        "outputId": "7176acb7-93bd-43fa-cf75-80668c6025b3"
      },
      "execution_count": 12,
      "outputs": [
        {
          "output_type": "stream",
          "name": "stdout",
          "text": [
            "coca : 15000\n",
            "pepsi : 17000\n",
            "guarana : 13000\n",
            "sprite : 5000\n",
            "fanta : 250\n"
          ]
        }
      ]
    },
    {
      "cell_type": "markdown",
      "source": [
        "#For 'each'"
      ],
      "metadata": {
        "id": "QyD5n9cSHLEZ"
      }
    },
    {
      "cell_type": "code",
      "source": [
        "produtos = ['coca', 'pepsi', 'guarana', 'sprite', 'fanta']\n",
        "producao = [15000, 17000, 13000, 5000, 250 ]\n",
        "texto = 'marceloluiz1429@gmail.com'\n",
        "for produto in produtos:\n",
        "  print('O produto é {}' .format(produto))\n",
        "\n",
        "\n",
        "for ch in texto:\n",
        "  print(ch)"
      ],
      "metadata": {
        "colab": {
          "base_uri": "https://localhost:8080/"
        },
        "collapsed": true,
        "id": "Eeet-B5nHIki",
        "outputId": "8622c83e-1376-45a3-9fa9-8500f792ea8b"
      },
      "execution_count": 15,
      "outputs": [
        {
          "output_type": "stream",
          "name": "stdout",
          "text": [
            "O produto é coca\n",
            "O produto é pepsi\n",
            "O produto é guarana\n",
            "O produto é sprite\n",
            "O produto é fanta\n",
            "m\n",
            "a\n",
            "r\n",
            "c\n",
            "e\n",
            "l\n",
            "o\n",
            "l\n",
            "u\n",
            "i\n",
            "z\n",
            "1\n",
            "4\n",
            "2\n",
            "9\n",
            "@\n",
            "g\n",
            "m\n",
            "a\n",
            "i\n",
            "l\n",
            ".\n",
            "c\n",
            "o\n",
            "m\n"
          ]
        }
      ]
    },
    {
      "cell_type": "code",
      "source": [
        "import statistics as st\n",
        "vendas = [1200, 300, 800, 1500, 1980, 1900, 2750, 400, 20, 23, 70, 90, 1100, 999, 860, 900, 800, 50, 1111, 300, 450, 800]\n",
        "meta = 1000\n",
        "qtde_bateu_meta = 0\n",
        "qtde_vendedores = len(vendas)\n",
        "media_vendas = sum(vendas) / qtde_vendedores\n",
        "desvio_padrao =  st.stdev(vendas)\n",
        "mediana_vendas = st.median(vendas)\n",
        "moda_vendas = st.mode(vendas)\n",
        "variance_vendas = st.variance(vendas)\n",
        "pvariance_vendas = st.pvariance(vendas)\n",
        "for venda in vendas:\n",
        "  if venda >= meta:\n",
        "    qtde_bateu_meta +=1\n",
        "\n",
        "print('O percentual de pessoas que bateram a meta foi de {:.1%}'.format(qtde_bateu_meta / qtde_vendedores))\n",
        "print(\"A quantidade media de vendas foi: {:.2f}\" .format(media_vendas))\n",
        "print('O desvio padrão foi de {:.2f}'.format(desvio_padrao))\n",
        "print('A mediana foi de {:.2f}'.format(mediana_vendas))\n",
        "print('A moda foi de {:.2f}'.format(moda_vendas))\n",
        "print('A variância foi de {:.2f}'.format(variance_vendas))\n",
        "print('A variância populacional foi de {:.2f}'.format(pvariance_vendas))\n"
      ],
      "metadata": {
        "colab": {
          "base_uri": "https://localhost:8080/"
        },
        "id": "EMcvR7y8JOBm",
        "outputId": "67668b72-fe6c-4c80-80ef-c5c831798842"
      },
      "execution_count": 44,
      "outputs": [
        {
          "output_type": "stream",
          "name": "stdout",
          "text": [
            "O percentual de pessoas que bateram a meta foi de 31.8%\n",
            "A quantidade media de vendas foi: 836.50\n",
            "O desvio padrão foi de 719.11\n",
            "A mediana foi de 800.00\n",
            "A moda foi de 800.00\n",
            "A variância foi de 517125.79\n",
            "A variância populacional foi de 493620.07\n"
          ]
        }
      ]
    }
  ]
}