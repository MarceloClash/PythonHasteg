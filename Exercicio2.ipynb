{
  "nbformat": 4,
  "nbformat_minor": 0,
  "metadata": {
    "colab": {
      "provenance": [],
      "authorship_tag": "ABX9TyNOY3HpixZyCHPyzEWpkJFT",
      "include_colab_link": true
    },
    "kernelspec": {
      "name": "python3",
      "display_name": "Python 3"
    },
    "language_info": {
      "name": "python"
    }
  },
  "cells": [
    {
      "cell_type": "markdown",
      "metadata": {
        "id": "view-in-github",
        "colab_type": "text"
      },
      "source": [
        "<a href=\"https://colab.research.google.com/github/MarceloClash/PythonHasteg/blob/main/Exercicio2.ipynb\" target=\"_parent\"><img src=\"https://colab.research.google.com/assets/colab-badge.svg\" alt=\"Open In Colab\"/></a>"
      ]
    },
    {
      "cell_type": "markdown",
      "source": [
        "\n",
        "\n",
        "# 1. Mudança de carga tributária"
      ],
      "metadata": {
        "id": "tAsXE30F4QZw"
      }
    },
    {
      "cell_type": "code",
      "execution_count": 12,
      "metadata": {
        "colab": {
          "base_uri": "https://localhost:8080/"
        },
        "id": "tEIjkNtB4O31",
        "outputId": "dc08339b-0339-4ac0-cea6-d4c1e63cc64e"
      },
      "outputs": [
        {
          "output_type": "stream",
          "name": "stdout",
          "text": [
            "2,200,000\n",
            "Vamos pagar de impost a mais: R$200,000.0\n"
          ]
        }
      ],
      "source": [
        "produtos = ['computador',\n",
        "            'livro',\n",
        "            'tablet',\n",
        "            'celular',\n",
        "            'tv',\n",
        "            'ar condicionado',\n",
        "            'alexa',\n",
        "            'máquina cafe',\n",
        "            'kind',\n",
        "            ]\n",
        "produtos_ecomerce = [[1000, 2500],\n",
        "                     [50000, 40],\n",
        "                     [7000,1200],\n",
        "                     [20000,1500],\n",
        "                     [5800, 1300],\n",
        "                     [7200,2500],\n",
        "                     [200,800],\n",
        "                     [3300,700],\n",
        "                     [1900,400],\n",
        "                     ]\n",
        "qtde = 50000\n",
        "preco = 44\n",
        "total = qtde * preco\n",
        "print('{:,}' .format(total))\n",
        "\n",
        "if 'livro' in produtos:\n",
        "  i_livro = produtos.index('livro')\n",
        "  total_antigo = produtos_ecomerce[i_livro][0] * produtos_ecomerce[i_livro][1]\n",
        "  produtos_ecomerce[i_livro][1] = produtos_ecomerce[i_livro][1] *1.1\n",
        "  novo_total = produtos_ecomerce[i_livro][0] * produtos_ecomerce[i_livro][1]\n",
        "  print('Vamos pagar de impost a mais: R${:,}' .format(novo_total - total_antigo))\n",
        "\n"
      ]
    },
    {
      "cell_type": "code",
      "source": [
        "for produto in produtos:\n",
        "  print(produto)\n",
        "\n",
        ""
      ],
      "metadata": {
        "colab": {
          "base_uri": "https://localhost:8080/"
        },
        "id": "RO0N0Yah_Eea",
        "outputId": "4a094a37-4bec-4b3f-9bb7-813e24992d16"
      },
      "execution_count": 23,
      "outputs": [
        {
          "output_type": "stream",
          "name": "stdout",
          "text": [
            "computador\n",
            "livro\n",
            "tablet\n",
            "celular\n",
            "tv\n",
            "ar condicionado\n",
            "alexa\n",
            "máquina cafe\n",
            "kind\n"
          ]
        }
      ]
    },
    {
      "cell_type": "code",
      "source": [
        "frutas = ['maca', 'laranja', 'uva', 'pera']\n",
        "for fruta in frutas:\n",
        "  print(f'Eu vou comprar uma {fruta}')"
      ],
      "metadata": {
        "colab": {
          "base_uri": "https://localhost:8080/"
        },
        "id": "lBg7b6waB6pU",
        "outputId": "eb3f9299-4159-4be4-add1-5eecb88ffed0"
      },
      "execution_count": 25,
      "outputs": [
        {
          "output_type": "stream",
          "name": "stdout",
          "text": [
            "Eu vou comprar uma maca\n",
            "Eu vou comprar uma laranja\n",
            "Eu vou comprar uma uva\n",
            "Eu vou comprar uma pera\n"
          ]
        }
      ]
    },
    {
      "cell_type": "code",
      "source": [
        "contador = 0\n",
        "while contador < 5:\n",
        "  print(f'O contador está em {contador}')\n",
        "  contador = contador + 1"
      ],
      "metadata": {
        "colab": {
          "base_uri": "https://localhost:8080/"
        },
        "id": "pZIDE9TnCW_z",
        "outputId": "b3ef4101-55a8-4459-9774-673e8cae168a"
      },
      "execution_count": 26,
      "outputs": [
        {
          "output_type": "stream",
          "name": "stdout",
          "text": [
            "O contador está em 0\n",
            "O contador está em 1\n",
            "O contador está em 2\n",
            "O contador está em 3\n",
            "O contador está em 4\n"
          ]
        }
      ]
    },
    {
      "cell_type": "code",
      "source": [
        "def soma_lista(numeros):\n",
        "  total = 0\n",
        "  for numero in numeros:\n",
        "    total += numero\n",
        "  return total\n",
        "\n",
        "lista_de_numeros = [1,2,3.5,4,6.9]\n",
        "resultado = soma_lista(lista_de_numeros)\n",
        "print(f'A soma de lista é : {resultado}')\n",
        "print(f'A media da lista é: {resultado/5:.2f}')\n"
      ],
      "metadata": {
        "colab": {
          "base_uri": "https://localhost:8080/"
        },
        "id": "W-RyFi5UC_Vy",
        "outputId": "09f810ac-0ade-4f09-b3ef-166adf18d9a6"
      },
      "execution_count": 29,
      "outputs": [
        {
          "output_type": "stream",
          "name": "stdout",
          "text": [
            "A soma de lista é : 17.4\n",
            "A media da lista é: 3.48\n"
          ]
        }
      ]
    }
  ]
}