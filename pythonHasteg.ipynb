{
  "nbformat": 4,
  "nbformat_minor": 0,
  "metadata": {
    "colab": {
      "provenance": [],
      "authorship_tag": "ABX9TyM5OiPsYXBnf8lWLIganO6K",
      "include_colab_link": true
    },
    "kernelspec": {
      "name": "python3",
      "display_name": "Python 3"
    },
    "language_info": {
      "name": "python"
    }
  },
  "cells": [
    {
      "cell_type": "markdown",
      "metadata": {
        "id": "view-in-github",
        "colab_type": "text"
      },
      "source": [
        "<a href=\"https://colab.research.google.com/github/MarceloClash/PythonHasteg/blob/main/pythonHasteg.ipynb\" target=\"_parent\"><img src=\"https://colab.research.google.com/assets/colab-badge.svg\" alt=\"Open In Colab\"/></a>"
      ]
    },
    {
      "cell_type": "markdown",
      "source": [
        "- Cadastro de e-mails"
      ],
      "metadata": {
        "id": "Wk-cFhYl5TEA"
      }
    },
    {
      "cell_type": "code",
      "source": [
        "nome = input(\"Digite seu nome:\")\n",
        "email = input(\"Digite seu e-mail:\")\n",
        "\n",
        "if nome and email:\n",
        "  pos_a = email.find('@')\n",
        "  servidor = email[pos_a:]\n",
        "  if pos_a != -1 and '.' in servidor:\n",
        "    print(\"Casdastro com sucesso!\")\n",
        "  else:\n",
        "      print(\"Digite seu e-mail corretamente!\")\n",
        "\n",
        "else:\n",
        "  print(\"Digite seu nome e e-mail corretamente!\")"
      ],
      "metadata": {
        "colab": {
          "base_uri": "https://localhost:8080/"
        },
        "id": "FOtBTk6l5Zsr",
        "outputId": "9c401187-4b4f-400f-ea9f-24c5c76bfadc"
      },
      "execution_count": null,
      "outputs": [
        {
          "output_type": "stream",
          "name": "stdout",
          "text": [
            "Digite seu nome:Marcelo\n",
            "Digite seu e-mail:mar@gmaillcom\n",
            "Digite seu e-mail corretamente!\n"
          ]
        }
      ]
    },
    {
      "cell_type": "code",
      "source": [],
      "metadata": {
        "id": "tnJkQKdDQ2hn"
      },
      "execution_count": null,
      "outputs": []
    },
    {
      "cell_type": "markdown",
      "source": [
        "- Pedaço de Strings"
      ],
      "metadata": {
        "id": "7z8jWSflA0V8"
      }
    },
    {
      "cell_type": "code",
      "source": [
        "precos = \"jan: 25, fev: 28, mar: 27\"\n",
        "\n",
        "preco_jan = precos[5:7]\n",
        "print(preco_jan)\n",
        "preco_fev = precos[14:16]\n",
        "print(preco_fev)\n",
        "preco_mar = precos[-2:]\n",
        "print(preco_mar)\n",
        "soma_meses = int(preco_jan)+ int(preco_fev) +int(preco_mar)\n",
        "print(soma_meses)"
      ],
      "metadata": {
        "colab": {
          "base_uri": "https://localhost:8080/"
        },
        "id": "H4XZhsoCA30x",
        "outputId": "b18eaae1-56bb-4dee-d88e-163e2cff5a73"
      },
      "execution_count": null,
      "outputs": [
        {
          "output_type": "stream",
          "name": "stdout",
          "text": [
            "25\n",
            "28\n",
            "27\n",
            "80\n"
          ]
        }
      ]
    },
    {
      "cell_type": "markdown",
      "source": [
        "- Posição inicial e final com Step"
      ],
      "metadata": {
        "id": "Zglh8wLnB8XE"
      }
    },
    {
      "cell_type": "code",
      "source": [
        "codigo = \"1.2.3.4,5,1,2.3.4,7.9\"\n",
        "pedaco_codigo = codigo[10:2:-2]\n",
        "print(pedaco_codigo)"
      ],
      "metadata": {
        "colab": {
          "base_uri": "https://localhost:8080/"
        },
        "id": "iroM4nZUCEtA",
        "outputId": "dec7c609-18ad-40b8-bb34-f52bac9ee5a0"
      },
      "execution_count": null,
      "outputs": [
        {
          "output_type": "stream",
          "name": "stdout",
          "text": [
            "1543\n"
          ]
        }
      ]
    },
    {
      "cell_type": "code",
      "source": [
        "vendedor = \"Fenanda\"\n",
        "total_vendas = 15000.75\n",
        "comissao = total_vendas * 0.10\n",
        "\n",
        "relatorio = \"\"\"\n",
        "Relatório de Vendas\n",
        "Vendedor: {0}\n",
        "Total De Vendas: R${1:.2f}\n",
        "Comissão: R${2:.2f}\n",
        "\"\"\"\n",
        "formato_relatorio = relatorio.format(vendedor,total_vendas, comissao)\n",
        "print(formato_relatorio)"
      ],
      "metadata": {
        "colab": {
          "base_uri": "https://localhost:8080/"
        },
        "id": "eHmVwSEZDj-S",
        "outputId": "7f694af1-8400-4784-8f82-c119bba2e62a"
      },
      "execution_count": null,
      "outputs": [
        {
          "output_type": "stream",
          "name": "stdout",
          "text": [
            "\n",
            "Relatório de Vendas\n",
            "Vendedor: Fenanda\n",
            "Total De Vendas: R$15000.75\n",
            "Comissão: R$1500.08\n",
            "\n"
          ]
        }
      ]
    },
    {
      "cell_type": "code",
      "source": [
        "nome_cliente = \"Mariana\"\n",
        "produto = \"Notebook\"\n",
        "data_compra = \"20 de Novembro de 2024\"\n",
        "\n",
        "email_template = \"\"\"\n",
        "Olá, {nome}!\n",
        "\n",
        "Obrigado por comprar {produto} conosco. Sua compra foi realizada em {data}.\n",
        "\n",
        "Aguardamos sua próxima visita!\n",
        "\n",
        "Atenciosamente,\n",
        "Equipe de Vendas\n",
        "\"\"\"\n",
        "email_formato = email_template.format(nome = nome_cliente, produto = produto, data = data_compra)\n",
        "print(email_formato)"
      ],
      "metadata": {
        "colab": {
          "base_uri": "https://localhost:8080/"
        },
        "id": "kUsjqCaTFqXK",
        "outputId": "763a6415-8ad2-47c5-affe-42489857b002"
      },
      "execution_count": null,
      "outputs": [
        {
          "output_type": "stream",
          "name": "stdout",
          "text": [
            "\n",
            "Olá, Mariana!\n",
            "\n",
            "Obrigado por comprar Notebook conosco. Sua compra foi realizada em 20 de Novembro de 2024.\n",
            "\n",
            "Aguardamos sua próxima visita!\n",
            "\n",
            "Atenciosamente,\n",
            "Equipe de Vendas\n",
            "\n"
          ]
        }
      ]
    },
    {
      "cell_type": "code",
      "source": [
        "cliente = \"Empresa ABC\"\n",
        "valor_total = 4567.89\n",
        "data_vencimento = \"30 de Novembro de 2024\"\n",
        "\n",
        "fatura_template = \"\"\"\n",
        "Fatura do Mês\n",
        "Cliente: {0}\n",
        "Valor Total: R${1:.2f}\n",
        "Data de Vencimento: {2}\n",
        "\"\"\"\n",
        "fatura_formatada = fatura_template.format(cliente, valor_total, data_vencimento)\n",
        "print(fatura_formatada)"
      ],
      "metadata": {
        "colab": {
          "base_uri": "https://localhost:8080/"
        },
        "id": "d5KQV3yGHYE3",
        "outputId": "ce157aef-6a13-4b16-a492-8e6fa859c213"
      },
      "execution_count": null,
      "outputs": [
        {
          "output_type": "stream",
          "name": "stdout",
          "text": [
            "\n",
            "Fatura do Mês\n",
            "Cliente: Empresa ABC\n",
            "Valor Total: R$4567.89\n",
            "Data de Vencimento: 30 de Novembro de 2024\n",
            "\n"
          ]
        }
      ]
    }
  ]
}