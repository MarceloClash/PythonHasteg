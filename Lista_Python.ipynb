{
  "nbformat": 4,
  "nbformat_minor": 0,
  "metadata": {
    "colab": {
      "provenance": [],
      "authorship_tag": "ABX9TyODe5iG4FnFeGeZ75PoEiQV",
      "include_colab_link": true
    },
    "kernelspec": {
      "name": "python3",
      "display_name": "Python 3"
    },
    "language_info": {
      "name": "python"
    }
  },
  "cells": [
    {
      "cell_type": "markdown",
      "metadata": {
        "id": "view-in-github",
        "colab_type": "text"
      },
      "source": [
        "<a href=\"https://colab.research.google.com/github/MarceloClash/PythonHasteg/blob/main/Lista_Python.ipynb\" target=\"_parent\"><img src=\"https://colab.research.google.com/assets/colab-badge.svg\" alt=\"Open In Colab\"/></a>"
      ]
    },
    {
      "cell_type": "code",
      "execution_count": 19,
      "metadata": {
        "colab": {
          "base_uri": "https://localhost:8080/"
        },
        "id": "tk6SscGLzG7t",
        "outputId": "1ba99d1e-a4fe-454e-c79a-cb2fc45ff3c7"
      },
      "outputs": [
        {
          "output_type": "stream",
          "name": "stdout",
          "text": [
            "jan: 25\n",
            "Mar: 29\n",
            "fev: 27\n"
          ]
        }
      ],
      "source": [
        "precos = 'jan: 25, fev: 27, Mar: 29'\n",
        "preco_jan = precos[:7]\n",
        "print(preco_jan)\n",
        "preco_mar = precos[-7:]\n",
        "print(preco_mar)\n",
        "preco_fev = precos[9:16]\n",
        "print(preco_fev)"
      ]
    },
    {
      "cell_type": "markdown",
      "source": [
        "#Lista de produtos de uma loja."
      ],
      "metadata": {
        "id": "maYo2sOv5gC2"
      }
    },
    {
      "cell_type": "code",
      "source": [
        "produtos = ['tv', 'celular', 'mouse', 'teclado', 'tablet']\n",
        "print(produtos[1])"
      ],
      "metadata": {
        "colab": {
          "base_uri": "https://localhost:8080/"
        },
        "id": "ZGr0Ps565Kye",
        "outputId": "ce375255-3005-4d8f-b265-923495aeb8d8"
      },
      "execution_count": 20,
      "outputs": [
        {
          "output_type": "stream",
          "name": "stdout",
          "text": [
            "celular\n"
          ]
        }
      ]
    },
    {
      "cell_type": "markdown",
      "source": [
        "#Lista de unidades de cada produto da loja"
      ],
      "metadata": {
        "id": "qnuw63Fw5m2k"
      }
    },
    {
      "cell_type": "code",
      "source": [
        "vendas = [1000, 1500, 350, 270, 900]\n",
        "print(vendas[1])\n",
        "vendas[1] = 2000\n",
        "print(vendas[1])"
      ],
      "metadata": {
        "colab": {
          "base_uri": "https://localhost:8080/"
        },
        "id": "YsvWNHW45uMp",
        "outputId": "964a672b-3f87-49ef-98e3-6553a8ebfd1f"
      },
      "execution_count": 26,
      "outputs": [
        {
          "output_type": "stream",
          "name": "stdout",
          "text": [
            "1500\n",
            "2000\n"
          ]
        }
      ]
    },
    {
      "cell_type": "code",
      "source": [
        "print('Vendas do produto {} foram de {:.2f} unidades' .format(produtos[1], vendas[1]))"
      ],
      "metadata": {
        "colab": {
          "base_uri": "https://localhost:8080/"
        },
        "id": "wo7qTWdo6PRx",
        "outputId": "e9174ace-49cf-4340-ffc4-2746ff3a63da"
      },
      "execution_count": 27,
      "outputs": [
        {
          "output_type": "stream",
          "name": "stdout",
          "text": [
            "Vendas do produto celular foram de 2000.00 unidades\n"
          ]
        }
      ]
    },
    {
      "cell_type": "markdown",
      "source": [
        "#como descobrir o indice de um item de uma lista?"
      ],
      "metadata": {
        "id": "x_qaYFjZ7yxw"
      }
    },
    {
      "cell_type": "code",
      "source": [
        "produtos=['tv', 'celular', 'tablet', 'mouse', 'teclado', 'geladeira', 'forno']\n",
        "estoque = [100, 150, 100, 120, 70, 180, 80]\n",
        "print(produtos.index('geladeira'))"
      ],
      "metadata": {
        "colab": {
          "base_uri": "https://localhost:8080/"
        },
        "id": "jaUxX7BI786e",
        "outputId": "ddb72a77-ff9c-4942-c8f3-8c6e71ad8f0e"
      },
      "execution_count": 29,
      "outputs": [
        {
          "output_type": "stream",
          "name": "stdout",
          "text": [
            "5\n"
          ]
        }
      ]
    },
    {
      "cell_type": "code",
      "source": [
        "i = produtos.index('geladeira')\n",
        "print(i)\n",
        "qtde_estoque =estoque[i]\n",
        "print('Quantidade de geladeira é de: {}' .format(qtde_estoque))\n",
        "\n"
      ],
      "metadata": {
        "colab": {
          "base_uri": "https://localhost:8080/"
        },
        "id": "gSv_Zexd8B7a",
        "outputId": "4ee58d05-f3e0-42f5-fd2f-83d399d8e4e4"
      },
      "execution_count": 45,
      "outputs": [
        {
          "output_type": "stream",
          "name": "stdout",
          "text": [
            "5\n",
            "Quantidade de geladeira é de: 180\n"
          ]
        }
      ]
    },
    {
      "cell_type": "markdown",
      "source": [
        "Crie um progama para fazer uma consulta de estoque. O usuario deve inserir o nome do produto e, caso não exista na lista ele é avisado. Caso exista, o progama deve dizer a quantidade de unidades em estoque do produto."
      ],
      "metadata": {
        "id": "jDpxXSJk-bKi"
      }
    },
    {
      "cell_type": "code",
      "source": [
        "produto = input('Insira o nome do produto em letra minuscula: ')\n",
        "if produto in produtos:\n",
        "  i = produtos.index(produto)\n",
        "  qtde_estoque = estoque[i]\n",
        "  print('Temos {} unidades de {} no estoque'.format(qtde_estoque, produto))\n",
        "else:\n",
        "  print('{} não existe no estoque'.format(produto))\n"
      ],
      "metadata": {
        "colab": {
          "base_uri": "https://localhost:8080/"
        },
        "id": "qcaEqF8QCvnv",
        "outputId": "e5fb8ff5-0011-408c-863b-9f7bcc85aecd"
      },
      "execution_count": 62,
      "outputs": [
        {
          "output_type": "stream",
          "name": "stdout",
          "text": [
            "Insira o nome do produto em letra minuscula: aviao\n",
            "aviao não existe no estoque\n"
          ]
        }
      ]
    }
  ]
}