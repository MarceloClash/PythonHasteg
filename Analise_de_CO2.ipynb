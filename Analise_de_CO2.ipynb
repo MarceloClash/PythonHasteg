{
  "nbformat": 4,
  "nbformat_minor": 0,
  "metadata": {
    "colab": {
      "provenance": [],
      "authorship_tag": "ABX9TyPV+cWKuCUBW7IZdKUe/L8q",
      "include_colab_link": true
    },
    "kernelspec": {
      "name": "python3",
      "display_name": "Python 3"
    },
    "language_info": {
      "name": "python"
    }
  },
  "cells": [
    {
      "cell_type": "markdown",
      "metadata": {
        "id": "view-in-github",
        "colab_type": "text"
      },
      "source": [
        "<a href=\"https://colab.research.google.com/github/MarceloClash/PythonHasteg/blob/main/Analise_de_CO2.ipynb\" target=\"_parent\"><img src=\"https://colab.research.google.com/assets/colab-badge.svg\" alt=\"Open In Colab\"/></a>"
      ]
    },
    {
      "cell_type": "markdown",
      "source": [
        "Aqui está a descrição do código em português:\n",
        "\n",
        "Este código é um sistema de monitoramento dos níveis de CO2 nos estados brasileiros. Ele realiza as seguintes funções:\n",
        "\n",
        "1. **Estrutura dos Dados:**\n",
        "   - Utiliza um dicionário `niveis_co2` onde as chaves são as siglas dos estados brasileiros\n",
        "   - Cada estado possui uma lista com 5 medições de CO2 (presumivelmente de diferentes sensores)\n",
        "\n",
        "2. **Funcionalidade:**\n",
        "   - Percorre cada estado no dicionário\n",
        "   - Calcula:\n",
        "     * Quantidade de sensores (usando `len()`)\n",
        "     * Total de CO2 medido (usando `sum()`)\n",
        "     * Média de CO2 por estado\n",
        "   \n",
        "3. **Análise e Alerta:**\n",
        "   - Define um valor crítico de 450 como limite\n",
        "   - Para cada estado:\n",
        "     * Se a média > 450: Emite alerta de \"níveis altíssimos\"\n",
        "     * Se a média ≤ 450: Indica que os níveis estão \"aceitáveis\"\n",
        "   - Exibe o resultado formatado com o nome do estado e o valor médio\n",
        "\n",
        "4. **Propósito:**\n",
        "   - Serve como uma ferramenta de monitoramento ambiental\n",
        "   - Ajuda a identificar estados que necessitam de atenção especial quanto aos níveis de CO2\n",
        "   - Permite uma visualização rápida da situação de cada estado em relação ao limite estabelecido\n",
        "\n",
        "Este é um exemplo prático de como usar dicionários em Python para análise de dados ambientais e tomada de decisão baseada em limites predefinidos.\n"
      ],
      "metadata": {
        "id": "2PO_hT81Mi5s"
      }
    },
    {
      "cell_type": "code",
      "execution_count": 1,
      "metadata": {
        "colab": {
          "base_uri": "https://localhost:8080/"
        },
        "id": "4YLxk3bEMhx8",
        "outputId": "1242a0aa-17a1-4f4a-f236-b3a9dcbadec0"
      },
      "outputs": [
        {
          "output_type": "stream",
          "name": "stdout",
          "text": [
            "AC está com niveis de CO2 aceitaveis (409.4)\n",
            "AL está com niveis de CO2 aceitaveis (418.4)\n",
            "AP está com niveis de CO2 aceitaveis (423.2)\n",
            "AM está com niveis de CO2 aceitaveis (409.4)\n",
            "BA está com niveis de CO2 aceitaveis (420.4)\n",
            "CE está com niveis de CO2 aceitaveis (387.6)\n",
            "DF está com niveis altissimos de  CO2 (522.4), chamar equipe especializada para analise\n",
            "ES está com niveis altissimos de  CO2 (452.4), chamar equipe especializada para analise\n",
            "GO está com niveis altissimos de  CO2 (477.4), chamar equipe especializada para analise\n",
            "MA está com niveis de CO2 aceitaveis (357.6)\n",
            "MT está com niveis de CO2 aceitaveis (397.6)\n",
            "MS está com niveis de CO2 aceitaveis (412.4)\n",
            "MG está com niveis altissimos de  CO2 (487.4), chamar equipe especializada para analise\n",
            "PA está com niveis de CO2 aceitaveis (347.6)\n",
            "PB está com niveis de CO2 aceitaveis (382.4)\n",
            "PR está com niveis altissimos de  CO2 (467.4), chamar equipe especializada para analise\n",
            "PE está com niveis de CO2 aceitaveis (402.4)\n",
            "PI está com niveis de CO2 aceitaveis (367.6)\n",
            "RJ está com niveis altissimos de  CO2 (517.4), chamar equipe especializada para analise\n",
            "RN está com niveis de CO2 aceitaveis (392.4)\n",
            "RS está com niveis altissimos de  CO2 (457.4), chamar equipe especializada para analise\n",
            "RO está com niveis de CO2 aceitaveis (342.4)\n",
            "RR está com niveis de CO2 aceitaveis (327.4)\n",
            "SC está com niveis de CO2 aceitaveis (447.4)\n",
            "SP está com niveis altissimos de  CO2 (537.4), chamar equipe especializada para analise\n",
            "SE está com niveis de CO2 aceitaveis (407.4)\n",
            "TO está com niveis de CO2 aceitaveis (372.4)\n"
          ]
        }
      ],
      "source": [
        "niveis_co2 = {\n",
        "    'AC': [325, 405, 429, 486, 402],\n",
        "    'AL': [492, 495, 310, 407, 388],\n",
        "    'AP': [507, 503, 368, 338, 400],\n",
        "    'AM': [325, 405, 429, 486, 402],\n",
        "    'BA': [410, 415, 425, 430, 422],\n",
        "    'CE': [380, 385, 390, 395, 388],\n",
        "    'DF': [520, 515, 525, 530, 522],\n",
        "    'ES': [445, 450, 455, 460, 452],\n",
        "    'GO': [470, 475, 480, 485, 477],\n",
        "    'MA': [350, 355, 360, 365, 358],\n",
        "    'MT': [390, 395, 400, 405, 398],\n",
        "    'MS': [405, 410, 415, 420, 412],\n",
        "    'MG': [480, 485, 490, 495, 487],\n",
        "    'PA': [340, 345, 350, 355, 348],\n",
        "    'PB': [375, 380, 385, 390, 382],\n",
        "    'PR': [460, 465, 470, 475, 467],\n",
        "    'PE': [395, 400, 405, 410, 402],\n",
        "    'PI': [360, 365, 370, 375, 368],\n",
        "    'RJ': [510, 515, 520, 525, 517],\n",
        "    'RN': [385, 390, 395, 400, 392],\n",
        "    'RS': [450, 455, 460, 465, 457],\n",
        "    'RO': [335, 340, 345, 350, 342],\n",
        "    'RR': [320, 325, 330, 335, 327],\n",
        "    'SC': [440, 445, 450, 455, 447],\n",
        "    'SP': [530, 535, 540, 545, 537],\n",
        "    'SE': [400, 405, 410, 415, 407],\n",
        "    'TO': [365, 370, 375, 380, 372]\n",
        "}\n",
        "for estado in niveis_co2:\n",
        "    qtde_sensores = len(niveis_co2[estado])\n",
        "    total_co2 = sum(niveis_co2[estado])\n",
        "    media_co2 = total_co2 / qtde_sensores\n",
        "    if media_co2 > 450:\n",
        "        print('{} está com niveis altissimos de  CO2 ({}), chamar equipe especializada para analise'.format(estado, media_co2)  )\n",
        "    else:\n",
        "        print('{} está com niveis de CO2 aceitaveis ({})'.format(estado, media_co2))\n"
      ]
    }
  ]
}