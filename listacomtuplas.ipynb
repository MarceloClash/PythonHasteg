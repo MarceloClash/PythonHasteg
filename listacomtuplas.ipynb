{
  "nbformat": 4,
  "nbformat_minor": 0,
  "metadata": {
    "colab": {
      "provenance": [],
      "authorship_tag": "ABX9TyPyDWbrHKw1bxllhF9+Y5Vy",
      "include_colab_link": true
    },
    "kernelspec": {
      "name": "python3",
      "display_name": "Python 3"
    },
    "language_info": {
      "name": "python"
    }
  },
  "cells": [
    {
      "cell_type": "markdown",
      "metadata": {
        "id": "view-in-github",
        "colab_type": "text"
      },
      "source": [
        "<a href=\"https://colab.research.google.com/github/MarceloClash/PythonHasteg/blob/main/listacomtuplas.ipynb\" target=\"_parent\"><img src=\"https://colab.research.google.com/assets/colab-badge.svg\" alt=\"Open In Colab\"/></a>"
      ]
    },
    {
      "cell_type": "code",
      "execution_count": 1,
      "metadata": {
        "colab": {
          "base_uri": "https://localhost:8080/"
        },
        "id": "dQyiBcHU5Acm",
        "outputId": "58817497-a67e-4615-9755-155fa5b46d7e"
      },
      "outputs": [
        {
          "output_type": "stream",
          "name": "stdout",
          "text": [
            "O faturamento de iphone x no dia 21/01/2021 foi de 150000\n"
          ]
        }
      ],
      "source": [
        "# Lista de vendas contendo tuplas com informações: (data, produto, cor, quantidade, preço)\n",
        "vendas = [\n",
        "    ('2021-01-01', 'iphone', 'azul', 1500, 1000),\n",
        "    ('2021-01-01', 'iphone x', 'azul', 1500, 1000),\n",
        "    ('21/01/2021', 'iphone x', 'prata', 150, 1000),\n",
        "    ('22/01/2021', 'iphone x', 'preto', 150, 1000),\n",
        "]\n",
        "\n",
        "# Inicializa variável para calcular o faturamento\n",
        "faturamento = 0\n",
        "\n",
        "# Itera sobre cada item na lista de vendas\n",
        "for item in vendas:\n",
        "    # Desempacota os valores da tupla em variáveis individuais\n",
        "    data, produto, cor, qtde, preco = item\n",
        "\n",
        "    # Verifica se o produto é 'iphone x' e se a data é '21/01/2021'\n",
        "    if produto == 'iphone x' and data == '21/01/2021':\n",
        "        # Calcula o faturamento multiplicando quantidade pelo preço\n",
        "        faturamento += qtde * preco\n",
        "        # Imprime o resultado do faturamento para o produto e data específicos\n",
        "        print(f'O faturamento de {produto} no dia {data} foi de {faturamento}')"
      ]
    }
  ]
}