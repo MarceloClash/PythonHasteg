{
  "nbformat": 4,
  "nbformat_minor": 0,
  "metadata": {
    "colab": {
      "provenance": [],
      "authorship_tag": "ABX9TyNBKuWS7xmV7h0I7UCSiNxI",
      "include_colab_link": true
    },
    "kernelspec": {
      "name": "python3",
      "display_name": "Python 3"
    },
    "language_info": {
      "name": "python"
    }
  },
  "cells": [
    {
      "cell_type": "markdown",
      "metadata": {
        "id": "view-in-github",
        "colab_type": "text"
      },
      "source": [
        "<a href=\"https://colab.research.google.com/github/MarceloClash/PythonHasteg/blob/main/verificarIndice.ipynb\" target=\"_parent\"><img src=\"https://colab.research.google.com/assets/colab-badge.svg\" alt=\"Open In Colab\"/></a>"
      ]
    },
    {
      "cell_type": "markdown",
      "source": [
        "#Lista em Python"
      ],
      "metadata": {
        "id": "4buNwyKcXLlM"
      }
    },
    {
      "cell_type": "code",
      "source": [
        "produtos = ['celular', 'tv' ,'mouse', 'teclado', 'tablet' ]\n",
        "print(produtos[1])"
      ],
      "metadata": {
        "colab": {
          "base_uri": "https://localhost:8080/"
        },
        "id": "NMRlIPKqXRPQ",
        "outputId": "bfe91907-dcc6-4e06-a788-5e57b85da62b"
      },
      "execution_count": null,
      "outputs": [
        {
          "output_type": "stream",
          "name": "stdout",
          "text": [
            "tv\n"
          ]
        }
      ]
    },
    {
      "cell_type": "code",
      "source": [
        "vendas = [1000, 1500, 350, 270, 900]\n",
        "print(vendas[1])"
      ],
      "metadata": {
        "colab": {
          "base_uri": "https://localhost:8080/"
        },
        "id": "X6kvpKIgYIGB",
        "outputId": "1af898dc-b15b-40ca-f26f-3c4f4502dfc4"
      },
      "execution_count": null,
      "outputs": [
        {
          "output_type": "stream",
          "name": "stdout",
          "text": [
            "1500\n"
          ]
        }
      ]
    },
    {
      "cell_type": "code",
      "source": [
        "vendas[1] = 2000\n",
        "print('Vendas do produto {} foram de {:,} unidades' .format(produtos[1],vendas[1]))"
      ],
      "metadata": {
        "colab": {
          "base_uri": "https://localhost:8080/"
        },
        "id": "zAzS_w9uYfkB",
        "outputId": "6900172f-576b-4a45-ac3e-7a6b4be89add"
      },
      "execution_count": null,
      "outputs": [
        {
          "output_type": "stream",
          "name": "stdout",
          "text": [
            "Vendas do produto tv foram de 2,000 unidades\n"
          ]
        }
      ]
    },
    {
      "cell_type": "code",
      "source": [
        "texto = 'Marcelo'\n",
        "texto.replace('a','@')\n",
        "print(texto)\n"
      ],
      "metadata": {
        "colab": {
          "base_uri": "https://localhost:8080/"
        },
        "id": "r00v7TLJZ7T8",
        "outputId": "5dfe6538-a6ab-41d2-fc96-ee1f1d6efd96"
      },
      "execution_count": null,
      "outputs": [
        {
          "output_type": "stream",
          "name": "stdout",
          "text": [
            "Marcelo\n"
          ]
        }
      ]
    },
    {
      "cell_type": "markdown",
      "source": [
        "#Como descobrir o índice de um item de uma lista?"
      ],
      "metadata": {
        "id": "RMn7ITUKam48"
      }
    },
    {
      "cell_type": "code",
      "source": [
        "produtos = ['celular', 'tv' ,'mouse', 'teclado', 'tablet' ]\n",
        "estoque = [100, 150, 253, 456, 412]\n",
        "i = produtos.index('tv')\n",
        "qtde_estoque = estoque[i]\n",
        "print(\"Quantidade em estoque da tv é de {}\" .format(qtde_estoque))"
      ],
      "metadata": {
        "colab": {
          "base_uri": "https://localhost:8080/"
        },
        "id": "P3OXgAyJawlL",
        "outputId": "e6026675-5631-4904-dfa9-a08fae0cca0d"
      },
      "execution_count": 5,
      "outputs": [
        {
          "output_type": "stream",
          "name": "stdout",
          "text": [
            "Quantidade em estoque da tv é de 150\n"
          ]
        }
      ]
    },
    {
      "cell_type": "code",
      "source": [
        "produto =input(\"Digite em minusculo o nome do produto \")\n",
        "if produto in produtos:\n",
        "  i = produtos.index(produto)\n",
        "  qtde_estoque = estoque[i]\n",
        "  print(\"Quandtidade de {} é de {} unidades\" .format(produto, qtde_estoque))\n",
        "else:\n",
        "  print('O  {} não existe no estoque' .format(produto))"
      ],
      "metadata": {
        "colab": {
          "base_uri": "https://localhost:8080/"
        },
        "id": "J63em9FMzIKe",
        "outputId": "52426f47-2da0-45ad-9398-f737df9f5e7c"
      },
      "execution_count": 10,
      "outputs": [
        {
          "output_type": "stream",
          "name": "stdout",
          "text": [
            "Digite em minusculo o nome do produto mouse\n",
            "Quandtidade de mouse é de 253 unidades\n"
          ]
        }
      ]
    },
    {
      "cell_type": "markdown",
      "source": [
        "#2- Lista de Funionarios\n",
        "\n",
        "- Cenario:  Você tem uma lista de funcionarios e deseja obter o departamento de um funcionario especifico"
      ],
      "metadata": {
        "id": "lFJNAkH66JNr"
      }
    },
    {
      "cell_type": "code",
      "source": [
        "# Lista de funcionários e seus respectivos departamentos\n",
        "funcionarios = [\"Ana\", \"Bruno\", \"Carlos\", \"Daniela\", \"Eduardo\"]\n",
        "departamentos = [\"Financeiro\", \"RH\", \"TI\", \"Marketing\", \"Vendas\"]\n",
        "\n",
        "# Solicita o nome do funcionário ao usuário\n",
        "funcionario = input(\"Digite o nome do funcionário: \")\n",
        "\n",
        "# Verifica se o funcionário está na lista\n",
        "if funcionario in funcionarios:\n",
        "    i = funcionarios.index(funcionario)  # Obtém o índice do funcionário\n",
        "    departamento = departamentos[i]  # Obtém o departamento correspondente ao índice\n",
        "    print(\"{} trabalha no departamento de {}\".format(funcionario, departamento))\n",
        "else:\n",
        "    print(\"O funcionário {} não está na lista\".format(funcionario))\n"
      ],
      "metadata": {
        "colab": {
          "base_uri": "https://localhost:8080/"
        },
        "id": "83bgsXTt6QR_",
        "outputId": "101b1981-1f95-4f75-ad12-2a8e57da1be2"
      },
      "execution_count": 14,
      "outputs": [
        {
          "output_type": "stream",
          "name": "stdout",
          "text": [
            "Digite o nome do funcionário: daniela\n",
            "O funcionário daniela não está na lista\n"
          ]
        }
      ]
    },
    {
      "cell_type": "markdown",
      "source": [
        "#3- Dados de Clientes\n",
        "- Cenario: Você tem uma lista de clientes e suas respectivas cidades e deseja verificar a cidade de um cliente especifico\n"
      ],
      "metadata": {
        "id": "nKnEH8c3A0Tu"
      }
    },
    {
      "cell_type": "code",
      "source": [
        "clientes = [\"Mariana\", \"João\", \"Fernanda\", \"Pedro\", \"Juliana\"]\n",
        "cidades = [\"São Paulo\", \"Rio de Janeiro\", \"Belo Horizonte\", \"Porto Alegre\", \"Curitiba\"]\n",
        "\n",
        "cliente = input(\"Digite o nome do cliente: \")\n",
        "\n",
        "if cliente in clientes:\n",
        "  i = clientes.index(cliente) # Obtém o indice do cliente\n",
        "  cidade = cidades[i] # Obtém o indice da cidade correspondente ao índice\n",
        "  print(\"O cliente {} mora na cidade de {}\" .format(cliente, cidade))\n",
        "else:\n",
        "  print(\"O cliente {} não está na lista\" .format(cliente))"
      ],
      "metadata": {
        "colab": {
          "base_uri": "https://localhost:8080/"
        },
        "id": "4u3zXE8IBMfS",
        "outputId": "693b1237-04e4-4873-8ff8-fabf5e599c10"
      },
      "execution_count": 19,
      "outputs": [
        {
          "output_type": "stream",
          "name": "stdout",
          "text": [
            "Digite o nome do cliente: Pedro\n",
            "O cliente Pedro mora na cidade de Porto Alegre\n"
          ]
        }
      ]
    },
    {
      "cell_type": "markdown",
      "source": [
        "#4 - Gerenciamento de Projetos\n",
        "- Cenario: Você tem uma lista de projetos e seus respectivos prazos de entrega e deseja vericar o prazo de um projeto especifico"
      ],
      "metadata": {
        "id": "4e1HfyzCDmu5"
      }
    },
    {
      "cell_type": "code",
      "source": [
        "projetos = [\"Website\", \"Aplicativo Móvel\", \"Campanha de Marketing\", \"Sistema de Vendas\", \"Relatório Anual\"]\n",
        "prazos = [\"30/11/2024\",\"15/12/2024\", \"01/12/2024\", \"20/12/2024\", \"31/12/2024\"]\n",
        "\n",
        "projeto = input(\"Digite o nome do projeto: \")\n",
        "\n",
        "if projeto in projetos:\n",
        "  i = projetos.index(projeto) # Obtém o indice do projeto\n",
        "  prazo = prazos[i] # Obtém o prazo correspondente ao índice\n",
        "  print(\"O prazo de entrega do projeto '{}' é {}\" .format(projeto, prazo))\n",
        "else:\n",
        "  print(\"O projeto '{}' não está na lista\" .format(projeto))\n"
      ],
      "metadata": {
        "colab": {
          "base_uri": "https://localhost:8080/"
        },
        "id": "Rwv3zJOcEFk_",
        "outputId": "93065052-72c8-46cc-c8c0-d20cbb1b50a7"
      },
      "execution_count": 22,
      "outputs": [
        {
          "output_type": "stream",
          "name": "stdout",
          "text": [
            "Digite o nome do projeto: Sistema de Vendas\n",
            "O prazo de entrega do projeto 'Sistema de Vendas' é 20/12/2024\n"
          ]
        }
      ]
    },
    {
      "cell_type": "markdown",
      "source": [
        "#5 - Vefificação de Itens de Compras\n",
        "- Cenário: Você tem uma lista de itens comprados por um cliente e deseja verificar a quantidade comprada de um item específico"
      ],
      "metadata": {
        "id": "2JLxdlzUGwQ4"
      }
    },
    {
      "cell_type": "code",
      "source": [
        "itens_comprados = [\"caneta\", \"livro\", \"caderno\", \"borracha\", \"lapis\"]\n",
        "quantidades = [10, 5, 8, 12, 3]\n",
        "\n",
        "item = input(\"Digite o nome do item: \")\n",
        "\n",
        "if item in itens_comprados:\n",
        "  i = itens_comprados.index(item)\n",
        "  quantidade = quantidades[i]\n",
        "  print(\"A quantidade de {} comprada é de {} unidades\" .format(item, quantidade))\n",
        "else:\n",
        "  print(\"O item {} não foi comprado\" .format(item))"
      ],
      "metadata": {
        "colab": {
          "base_uri": "https://localhost:8080/"
        },
        "id": "PgdX6R6cHVpo",
        "outputId": "0135d718-9ac9-440e-e14f-2f609abb636d"
      },
      "execution_count": 29,
      "outputs": [
        {
          "output_type": "stream",
          "name": "stdout",
          "text": [
            "Digite o nome do item: caneta\n",
            "A quantidade de caneta comprada é de 10 unidades\n"
          ]
        }
      ]
    }
  ]
}