{
  "nbformat": 4,
  "nbformat_minor": 0,
  "metadata": {
    "colab": {
      "provenance": [],
      "authorship_tag": "ABX9TyP8F/RbKZ1qtfhTA6DH4cQC",
      "include_colab_link": true
    },
    "kernelspec": {
      "name": "python3",
      "display_name": "Python 3"
    },
    "language_info": {
      "name": "python"
    }
  },
  "cells": [
    {
      "cell_type": "markdown",
      "metadata": {
        "id": "view-in-github",
        "colab_type": "text"
      },
      "source": [
        "<a href=\"https://colab.research.google.com/github/MarceloClash/PythonHasteg/blob/main/modulo_if.ipynb\" target=\"_parent\"><img src=\"https://colab.research.google.com/assets/colab-badge.svg\" alt=\"Open In Colab\"/></a>"
      ]
    },
    {
      "cell_type": "markdown",
      "source": [
        "#Exercícios com if\n",
        "Crie um programa que calcule e dê um print no bônus que os funcionários devem receber segundo a regra:\n",
        "A meta é 1000 vendas.\n",
        "Se o valor de vendas for maior ou igual a meta, o valor do bônus do funcionário é 10% do valor de vendas.\n",
        "Caso contrário o valor de bônus do funcionário é 0.\n",
        "Print o bônus dos 3 funcionários"
      ],
      "metadata": {
        "id": "hgcRE0_igoSr"
      }
    },
    {
      "cell_type": "code",
      "source": [
        "vendas_funcionario1 = 1000\n",
        "vendas_funcionario2 = 770\n",
        "vendas_funcionario3 = 2700\n",
        "meta = 1000\n",
        "\n",
        "if vendas_funcionario1 >= meta:\n",
        "  bonus = 0.1 * vendas_funcionario1\n",
        "else:\n",
        "  bonus = 0\n",
        "print('Bonus do funcionário 1 é de R${:.2f}' .format(bonus))\n",
        "\n",
        "if vendas_funcionario2 >= meta:\n",
        "  bonus = 0.1 * vendas_funcionario2\n",
        "else:\n",
        "  bonus = 0\n",
        "print('Bonus do funcionário 2 é de R${:.2f}' .format(bonus))\n",
        "\n",
        "if vendas_funcionario3 >= meta:\n",
        "  bonus = 0.1 * vendas_funcionario3\n",
        "else:\n",
        "  bonus = 0\n",
        "print('Bonus do funcionario 3 é de R${:.2f}' .format(bonus))\n"
      ],
      "metadata": {
        "colab": {
          "base_uri": "https://localhost:8080/"
        },
        "id": "YfatULCrgxhN",
        "outputId": "5b01cf47-df9e-4b55-f276-91dbf76bef53"
      },
      "execution_count": 5,
      "outputs": [
        {
          "output_type": "stream",
          "name": "stdout",
          "text": [
            "Bonus do funcionário 1 é de R$100.00\n",
            "Bonus do funcionário 2 é de R$0.00\n",
            "Bonus do funcionario 3 é de R$270.00\n"
          ]
        }
      ]
    },
    {
      "cell_type": "markdown",
      "source": [
        "#2. Cálculo de bônus com uma nova regra\n",
        "Agora, crie um novo código que calcule e dê um print no bônus dos funcionários novamente. Porém há uma nova regra nesse 2º caso:\n",
        "A meta é 1000 vendas\n",
        "Agora, os funcionários que venderem muito acima da meta ganham mais bônus do que os outros. Então o bônus é definido da seguinte forma:\n",
        "\n",
        "Se vendas funcionário for maior ou igual a 2000, então o bônus é de 15% sobre o valor de vendas\n",
        "Se vendas funcionário for menor do que 2000 e maior ou igual a 1000, então o bônus é de 10% sobre o valor de vendas\n",
        "Se vendas funcionário for menos do que 1000 então o bônus do funcionário é de 0.\n",
        "Use as mesmas variáveis de vendas_funcionários"
      ],
      "metadata": {
        "id": "qhawO3v_ikOK"
      }
    },
    {
      "cell_type": "code",
      "source": [
        "if vendas_funcionario1 >= 2000:\n",
        "  bonus = 0.15 * vendas_funcionario1\n",
        "elif vendas_funcionario1 >= 1000:\n",
        "  bonus = 0.1 * vendas_funcionario1\n",
        "else:\n",
        "  bonus = 0\n",
        "print('O funcionario 1 guanhou R${:.2f} de bonus' .format(bonus))\n",
        "\n",
        "if vendas_funcionario2 >= 2000:\n",
        "  bonus = 0.15 * vendas_funcionario2\n",
        "elif vendas_funcionario2 >= 1000:\n",
        "  bonus = 0.1 * vendas_funcionario2\n",
        "else:\n",
        "  bonus = 0\n",
        "print('O funcionário 2 guanhou R${:.2f} de bonus' .format(bonus))\n",
        "\n",
        "if vendas_funcionario3 >= 2000:\n",
        "  bonus = 0.15 * vendas_funcionario3\n",
        "elif vendas_funcionario3 >= 1000:\n",
        "  bonus = 0.1 * vendas_funcionario3\n",
        "else:\n",
        "  bonus = 0\n",
        "print('O funcionário guanhou R${:.2f} de bonus' .format(bonus))\n",
        "\n"
      ],
      "metadata": {
        "colab": {
          "base_uri": "https://localhost:8080/"
        },
        "id": "FlaxxLljixAC",
        "outputId": "e1e94303-0364-415c-eff1-0722dbe6ff80"
      },
      "execution_count": 8,
      "outputs": [
        {
          "output_type": "stream",
          "name": "stdout",
          "text": [
            "O funcionario 1 guanhou R$100.00 de bonus\n",
            "O funcionário 2 guanhou R$0.00 de bonus\n",
            "O funcionário guanhou R$405.00 de bonus\n"
          ]
        }
      ]
    }
  ]
}