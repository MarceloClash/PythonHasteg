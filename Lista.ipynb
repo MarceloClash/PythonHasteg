{
  "nbformat": 4,
  "nbformat_minor": 0,
  "metadata": {
    "colab": {
      "provenance": [],
      "authorship_tag": "ABX9TyNS5u7nmaxqhTYsTYpocnge",
      "include_colab_link": true
    },
    "kernelspec": {
      "name": "python3",
      "display_name": "Python 3"
    },
    "language_info": {
      "name": "python"
    }
  },
  "cells": [
    {
      "cell_type": "markdown",
      "metadata": {
        "id": "view-in-github",
        "colab_type": "text"
      },
      "source": [
        "<a href=\"https://colab.research.google.com/github/MarceloClash/PythonHasteg/blob/main/Lista.ipynb\" target=\"_parent\"><img src=\"https://colab.research.google.com/assets/colab-badge.svg\" alt=\"Open In Colab\"/></a>"
      ]
    },
    {
      "cell_type": "code",
      "execution_count": 17,
      "metadata": {
        "colab": {
          "base_uri": "https://localhost:8080/"
        },
        "id": "zJZAipBLQbGZ",
        "outputId": "d0411275-7f01-4dd4-a991-ad1307c6ee43"
      },
      "outputs": [
        {
          "output_type": "stream",
          "name": "stdout",
          "text": [
            "['apple tv', 'mac', 'iphone x', 'ipad', 'apple watchmac book', 'airpods', 'iphone 11']\n",
            "iphonex não existe na lista de produtos.\n"
          ]
        }
      ],
      "source": [
        "produtos = ['apple tv', 'mac', 'iphone x', 'ipad', 'apple watch' 'mac book', 'airpods']\n",
        "\n",
        "#adicionar o iphone 11\n",
        "produtos.append('iphone 11')\n",
        "print(produtos)\n",
        "\n",
        "#remover o iphone x\n",
        "produto_remover = 'iphonex'\n",
        "if produto_remover in produtos:\n",
        "  produtos.remove('iphonex')\n",
        "else:\n",
        "  print('{} não existe na lista de produtos.' .format(produto_remover))\n"
      ]
    },
    {
      "cell_type": "code",
      "source": [
        "try:\n",
        "  produtos.remove('iphone x')\n",
        "  print('produto removido com sucesso!')\n",
        "except:\n",
        "  pass\n"
      ],
      "metadata": {
        "id": "vWM5iNPCTTEe"
      },
      "execution_count": 19,
      "outputs": []
    },
    {
      "cell_type": "markdown",
      "source": [
        "Alguams funções básicas de lista<br>\n",
        "Tamanho de lista<br>\n",
        "tamanho = len(lista)"
      ],
      "metadata": {
        "id": "xm8z_OEcUMXu"
      }
    },
    {
      "cell_type": "code",
      "source": [
        "produtos_2 =['apple tv', 'mac', 'iphone x', 'ipad', 'apple watch', 'mac book', 'airpods']\n",
        "tamanho = len(produtos_2)\n",
        "print('tamanho da lista é: {}' .format(tamanho))\n",
        "vendas = [1000, 1500, 15000, 20000, 270, 900, 100, 1200]"
      ],
      "metadata": {
        "colab": {
          "base_uri": "https://localhost:8080/"
        },
        "id": "gqgXkAPyUKJ8",
        "outputId": "d2cc7dde-366e-4e68-b677-50809cfa5b81"
      },
      "execution_count": 37,
      "outputs": [
        {
          "output_type": "stream",
          "name": "stdout",
          "text": [
            "tamanho da lista é: 7\n"
          ]
        }
      ]
    },
    {
      "cell_type": "markdown",
      "source": [
        "Maior e menosr valor<br>\n",
        "maior = max(lista)<br>\n",
        "menor = min(lista)"
      ],
      "metadata": {
        "id": "EokyWGEzUy0P"
      }
    },
    {
      "cell_type": "code",
      "source": [
        "mais_vendido = max(vendas)\n",
        "menos_vendido = min(vendas)\n",
        "print('mais vendido: {}' .format(mais_vendido))\n",
        "print('menos vendido: {}' .format(menos_vendido))\n"
      ],
      "metadata": {
        "colab": {
          "base_uri": "https://localhost:8080/"
        },
        "id": "-9NVRG6PU_xO",
        "outputId": "46cfc426-6c7e-4531-f6bb-32184a57f159"
      },
      "execution_count": 44,
      "outputs": [
        {
          "output_type": "stream",
          "name": "stdout",
          "text": [
            "mais vendido: 20000\n",
            "menos vendido: 100\n"
          ]
        }
      ]
    },
    {
      "cell_type": "code",
      "source": [
        "i = vendas.index(mais_vendido)\n",
        "produto_mais_vendido = produtos_2[i]\n",
        "\n",
        "print('produto mais vendido: {}' .format(produto_mais_vendido))\n",
        "\n",
        "i = vendas.index(menos_vendido)\n",
        "produto_menos_vendido = produtos_2[i]\n",
        "print('produto menos vendido: {}' .format(produto_menos_vendido))"
      ],
      "metadata": {
        "colab": {
          "base_uri": "https://localhost:8080/"
        },
        "id": "ffITw2bOYGGK",
        "outputId": "ab861728-e568-48d0-a364-9f6589eac274"
      },
      "execution_count": 45,
      "outputs": [
        {
          "output_type": "stream",
          "name": "stdout",
          "text": [
            "produto mais vendido: ipad\n",
            "produto menos vendido: airpods\n"
          ]
        }
      ]
    }
  ]
}