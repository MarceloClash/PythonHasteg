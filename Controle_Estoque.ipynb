{
  "cells": [
    {
      "cell_type": "markdown",
      "metadata": {
        "id": "view-in-github",
        "colab_type": "text"
      },
      "source": [
        "<a href=\"https://colab.research.google.com/github/MarceloClash/PythonHasteg/blob/main/Controle_Estoque.ipynb\" target=\"_parent\"><img src=\"https://colab.research.google.com/assets/colab-badge.svg\" alt=\"Open In Colab\"/></a>"
      ]
    },
    {
      "cell_type": "markdown",
      "source": [
        "#1. Criando um mini sistema de controle de estoque\n"
      ],
      "metadata": {
        "id": "Zg35ztThljkB"
      }
    },
    {
      "cell_type": "code",
      "source": [
        "produto = input('Digite o nome do produto: ')\n",
        "categoria = input('Digite a categoria do produto: ')\n",
        "quantidade = int(input('Digite a quantidade do produto: '))\n",
        "\n",
        "if produto and categoria and quantidade:\n",
        "  quantidade = int(quantidade)\n",
        "  if categoria == 'bebidas':\n",
        "    if quantidade < 75:\n",
        "\n",
        "        print('solicitar {} à equipe de compras, temos apenas {} unidades em estoque' .format(produto,quantidade))\n",
        "  if categoria == 'limpeza':\n",
        "    if quantidade < 30:\n",
        "      print('Solicitar {} à equipe de compras, temos apenas {} unidades em estoque' .format(produto,quantidade))\n",
        "  if categoria == 'alimento':\n",
        "    if quantidade < 50 :\n",
        "      print('Solicitar {} à equipe de compras, temos apenas {} unidades em estoque' .format(produto,quantidade))\n",
        "else:\n",
        "  print('preencha todas as informações')\n",
        "\n"
      ],
      "metadata": {
        "colab": {
          "base_uri": "https://localhost:8080/"
        },
        "id": "O0hUvkIJmXnb",
        "outputId": "df8a6804-2553-494b-cb02-d868d097b1b5"
      },
      "execution_count": 9,
      "outputs": [
        {
          "output_type": "stream",
          "name": "stdout",
          "text": [
            "Digite o nome do produto: guarana\n",
            "Digite a categoria do produto: bebidas\n",
            "Digite a quantidade do produto: 21\n",
            "solicitar guarana à equipe de compras, temos apenas 21 unidades em estoque\n"
          ]
        }
      ]
    }
  ],
  "metadata": {
    "colab": {
      "provenance": [],
      "authorship_tag": "ABX9TyPmkhPXogsaV/Glz5TOifRE",
      "include_colab_link": true
    },
    "kernelspec": {
      "display_name": "Python 3",
      "name": "python3"
    },
    "language_info": {
      "name": "python"
    }
  },
  "nbformat": 4,
  "nbformat_minor": 0
}