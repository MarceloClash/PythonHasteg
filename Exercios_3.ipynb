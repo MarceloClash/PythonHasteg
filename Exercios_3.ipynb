{
  "cells": [
    {
      "cell_type": "markdown",
      "metadata": {
        "id": "view-in-github",
        "colab_type": "text"
      },
      "source": [
        "<a href=\"https://colab.research.google.com/github/MarceloClash/PythonHasteg/blob/main/Exercios_3.ipynb\" target=\"_parent\"><img src=\"https://colab.research.google.com/assets/colab-badge.svg\" alt=\"Open In Colab\"/></a>"
      ]
    },
    {
      "cell_type": "code",
      "execution_count": 1,
      "metadata": {
        "colab": {
          "base_uri": "https://localhost:8080/"
        },
        "collapsed": true,
        "id": "_on2bZuhU2mH",
        "outputId": "43372045-57f5-4be1-96df-07dcb87b0189"
      },
      "outputs": [
        {
          "output_type": "stream",
          "name": "stdout",
          "text": [
            "Olá! Sou um bot simples. Digite 'tchau' para sair.\n",
            "Você: oi\n",
            "Bot: Olá! Como vai você?\n",
            "Você: thau\n",
            "Bot: Desculpe, não entendi.\n",
            "Você: thau\n",
            "Bot: Desculpe, não entendi.\n",
            "Você: Tchau\n",
            "Bot: Tchau! Até mais!\n"
          ]
        }
      ],
      "source": [
        "def responder(mensagem_usuario):\n",
        "    \"\"\"Responde à mensagem do usuário.\"\"\"\n",
        "\n",
        "    # Verifica se a mensagem do usuário contém \"oi\" (ignorando maiúsculas e minúsculas)\n",
        "    if \"oi\" in mensagem_usuario.lower():\n",
        "        return \"Olá! Como vai você?\"\n",
        "    # Verifica se a mensagem do usuário contém \"tchau\" (ignorando maiúsculas e minúsculas)\n",
        "    elif \"tchau\" in mensagem_usuario.lower():\n",
        "        return \"Tchau! Até mais!\"\n",
        "    # Responde com uma mensagem padrão se não entender a entrada do usuário\n",
        "    else:\n",
        "        return \"Desculpe, não entendi.\"\n",
        "\n",
        "def iniciar_chat():\n",
        "    \"\"\"Inicia uma conversa com o bot.\"\"\"\n",
        "\n",
        "    # Saída inicial do bot ao iniciar o chat\n",
        "    print(\"Olá! Sou um bot simples. Digite 'tchau' para sair.\")\n",
        "\n",
        "    # Loop para continuar a conversa até o usuário digitar \"tchau\"\n",
        "    while True:\n",
        "        # Captura a mensagem do usuário\n",
        "        mensagem_usuario = input(\"Você: \")\n",
        "        # Obtém a resposta do bot para a mensagem do usuário\n",
        "        resposta_bot = responder(mensagem_usuario)\n",
        "        # Exibe a resposta do bot\n",
        "        print(\"Bot:\", resposta_bot)\n",
        "\n",
        "        # Verifica se o usuário digitou \"tchau\" para encerrar o chat\n",
        "        if \"tchau\" in mensagem_usuario.lower():\n",
        "            break\n",
        "\n",
        "# Inicia o chat chamando a função iniciar_chat\n",
        "iniciar_chat()\n"
      ]
    },
    {
      "cell_type": "code",
      "source": [
        "# Atribuindo valores 1, 2 e 3 às variáveis a, b e c, respectivamente\n",
        "a, b, c = 1, 2, 3\n",
        "print(a, b, c)  # Saída: 1 2 3\n",
        "\n",
        "# Atribuindo novos valores 12, 23 e 69 às variáveis a, b e c, respectivamente\n",
        "a, b, c = 12, 23, 69\n",
        "print(a, b, c)  # Saída: 12 23 69\n",
        "\n",
        "# Atribuindo valores 11 e 22 às variáveis a e b e ignorando o terceiro valor 33 com _\n",
        "a, b, _ = 11, 22, 33\n",
        "print(a, b, _)  # Saída: 11 22 33\n",
        "\n",
        "# Atribuindo o valor 42 a todas as variáveis a, b e c\n",
        "a = b = c = 42\n",
        "print(a, b, c)  # Saída: 42 42 42\n",
        "\n",
        "# x e y apontam para a mesma lista [7, 8, 9]\n",
        "x = y = [7, 8, 9]\n",
        "x[0] = 13  # Alterando o primeiro elemento da lista para 13\n",
        "print(y)  # Saída: [13, 8, 9] (como x e y apontam para a mesma lista, a mudança reflete em ambas)\n",
        "\n",
        "# Criando uma lista complexa com listas aninhadas\n",
        "x = [1, 2, [3, 4, 5], [6, 7, 8]]\n",
        "print(x[2])  # Saída: [3, 4, 5] (acessando o terceiro elemento, que é uma lista)\n",
        "print(x[2][1])  # Saída: 4 (acessando o segundo elemento da lista [3, 4, 5])\n"
      ],
      "metadata": {
        "colab": {
          "base_uri": "https://localhost:8080/"
        },
        "collapsed": true,
        "id": "305zRiEza2Ue",
        "outputId": "0f4b4a40-048e-4931-b564-4b681eaad0ff"
      },
      "execution_count": 16,
      "outputs": [
        {
          "output_type": "stream",
          "name": "stdout",
          "text": [
            "1 2 3\n",
            "12 23 69\n",
            "11 22 33\n",
            "42 42 42\n",
            "[13, 8, 9]\n",
            "[3, 4, 5]\n",
            "4\n"
          ]
        }
      ]
    },
    {
      "cell_type": "code",
      "source": [
        "# Definição de uma função chamada my_function\n",
        "def my_function():\n",
        "    a = 2  # Atribuição do valor 2 à variável 'a'\n",
        "    return a  # Retorno do valor de 'a'\n",
        "    print(my_function())  # Esta linha nunca será executada, pois está após o 'return'\n",
        "\n",
        "# Condicional que compara 'a' e 'b', mas as variáveis não foram definidas antes\n",
        "if a < b:\n",
        "    print(a)\n",
        "else:\n",
        "    print(b)\n",
        "\n",
        "# Outra forma de escrever a mesma condicional em uma linha\n",
        "if a < b:\n",
        "    print(a)\n",
        "else:\n",
        "    print(b)\n",
        "\n",
        "# Condicional que compara 'x' e 'y', mas as variáveis não foram definidas antes\n",
        "if x > y:\n",
        "    y = x  # Atribuição de 'x' a 'y' se 'x' for maior que 'y'\n",
        "print(y)\n",
        "\n",
        "# Estrutura de loop 'while' dentro de uma condicional, comparando 'x' e 'y'\n",
        "if x > y:\n",
        "    while y != x:  # Loop que decrementa 'y' até que seja igual a 'x'\n",
        "        y -= 1\n",
        "\n",
        "# Definição de uma função vazia que será implementada mais tarde\n",
        "def will_be_implemeted_later():\n",
        "    pass  # 'pass' é um placeholder que indica que nada é feito nesta função no momento\n"
      ],
      "metadata": {
        "colab": {
          "base_uri": "https://localhost:8080/"
        },
        "id": "8QgxqvCId7ai",
        "outputId": "000d5270-c9ea-4c13-b600-6868245d5e14"
      },
      "execution_count": 32,
      "outputs": [
        {
          "output_type": "stream",
          "name": "stdout",
          "text": [
            "42\n",
            "42\n",
            "[13, 8, 9]\n"
          ]
        }
      ]
    },
    {
      "cell_type": "code",
      "source": [
        "a = 'hello'\n",
        "resultado = list(a)\n",
        "print(resultado)  # Saída: ['h', 'e', 'l', 'l', 'o']\n"
      ],
      "metadata": {
        "colab": {
          "base_uri": "https://localhost:8080/"
        },
        "id": "9-fpq4iYg2oX",
        "outputId": "6c1274a3-813b-4fbd-e578-5371137b72c8"
      },
      "execution_count": 40,
      "outputs": [
        {
          "output_type": "execute_result",
          "data": {
            "text/plain": [
              "['h', 'e', 'l', 'l', 'o']"
            ]
          },
          "metadata": {},
          "execution_count": 40
        }
      ]
    },
    {
      "cell_type": "code",
      "source": [
        "a = 'hello'\n",
        "resultado = set(a)\n",
        "print(resultado)  # Saída: {'h', 'e', 'l', 'o'}\n"
      ],
      "metadata": {
        "colab": {
          "base_uri": "https://localhost:8080/"
        },
        "id": "AkmlytFlhXwE",
        "outputId": "fe0c714c-61f3-4269-f7b7-ddaa02c05eb0"
      },
      "execution_count": 42,
      "outputs": [
        {
          "output_type": "execute_result",
          "data": {
            "text/plain": [
              "{'e', 'h', 'l', 'o'}"
            ]
          },
          "metadata": {},
          "execution_count": 42
        }
      ]
    },
    {
      "cell_type": "code",
      "source": [
        "a = 'hello'\n",
        "resultado = tuple(a)\n",
        "print(resultado)  # Saída: ('h', 'e', 'l', 'l', 'o')\n"
      ],
      "metadata": {
        "colab": {
          "base_uri": "https://localhost:8080/"
        },
        "id": "-5nvzMY-hgdP",
        "outputId": "ca059d7e-6b2d-4f22-c900-3b017a198f9d"
      },
      "execution_count": 43,
      "outputs": [
        {
          "output_type": "execute_result",
          "data": {
            "text/plain": [
              "('h', 'e', 'l', 'l', 'o')"
            ]
          },
          "metadata": {},
          "execution_count": 43
        }
      ]
    },
    {
      "cell_type": "code",
      "source": [
        "def f(m):\n",
        "    # Função que recebe uma lista como argumento e adiciona o número 3 a essa lista\n",
        "    m.append(3)\n",
        "\n",
        "# Criação de uma lista x com os elementos 1 e 2\n",
        "x = [1, 2]\n",
        "\n",
        "# Chamando a função f, passando x como argumento\n",
        "f(x)\n",
        "\n",
        "# Comparando se x é igual à lista [1, 2] após a chamada da função f\n",
        "x == [1, 2]\n",
        "\n",
        "\n"
      ],
      "metadata": {
        "id": "dVqRlcCEiIKv"
      },
      "execution_count": 48,
      "outputs": []
    },
    {
      "cell_type": "code",
      "source": [
        "# Criação da lista inicial com nomes\n",
        "names = ['Alice', 'Bob', 'Charlie', 'David']\n",
        "\n",
        "# Imprime o primeiro nome da lista\n",
        "print(names[0])  # Saída: Alice\n",
        "\n",
        "# Imprime o terceiro nome da lista (índice 2)\n",
        "print(names[2])  # Saída: Charlie\n",
        "\n",
        "# Imprime o último nome da lista usando índice negativo\n",
        "print(names[-1])  # Saída: David\n",
        "\n",
        "# Imprime o primeiro nome da lista usando índice negativo\n",
        "print(names[-4])  # Saída: Alice\n",
        "\n",
        "# Altera o primeiro nome da lista para 'Ann'\n",
        "names[0] = 'Ann'\n",
        "print(names)  # Saída: ['Ann', 'Bob', 'Charlie', 'David']\n",
        "\n",
        "# Adiciona 'Sia' ao final da lista\n",
        "names.append('Sia')\n",
        "print(names)  # Saída: ['Ann', 'Bob', 'Charlie', 'David', 'Sia']\n",
        "\n",
        "# Insere 'Nikki' na posição 1 (segunda posição) da lista\n",
        "names.insert(1, 'Nikki')\n",
        "print(names)  # Saída: ['Ann', 'Nikki', 'Bob', 'Charlie', 'David', 'Sia']\n",
        "\n",
        "# Remove o nome 'Bob' da lista\n",
        "names.remove('Bob')\n",
        "print(names)  # Saída: ['Ann', 'Nikki', 'Charlie', 'David', 'Sia']\n",
        "\n",
        "# Obtém o índice de 'Sia' na lista\n",
        "print(names.index('Sia'))  # Saída: 4 (Sia está na quinta posição, índice 4)\n"
      ],
      "metadata": {
        "colab": {
          "base_uri": "https://localhost:8080/"
        },
        "id": "n9HSiCD_jKqp",
        "outputId": "e43034fc-cb07-46cf-9efb-c85b1bb35d49"
      },
      "execution_count": 70,
      "outputs": [
        {
          "output_type": "stream",
          "name": "stdout",
          "text": [
            "Alice\n",
            "Charlie\n",
            "David\n",
            "Alice\n",
            "['Ann', 'Bob', 'Charlie', 'David']\n",
            "['Ann', 'Bob', 'Charlie', 'David', 'Sia']\n",
            "['Ann', 'Nikki', 'Bob', 'Charlie', 'David', 'Sia']\n",
            "['Ann', 'Nikki', 'Charlie', 'David', 'Sia']\n",
            "4\n"
          ]
        }
      ]
    },
    {
      "cell_type": "code",
      "source": [
        "a = [1,1,1,2,3,4]\n",
        "b = a.count(1)\n",
        "print(b)\n",
        "\n",
        "\n"
      ],
      "metadata": {
        "colab": {
          "base_uri": "https://localhost:8080/"
        },
        "collapsed": true,
        "id": "VUjMeQ1RmBmw",
        "outputId": "f84242c7-9f02-43f3-dcca-08d0da25278c"
      },
      "execution_count": 82,
      "outputs": [
        {
          "output_type": "stream",
          "name": "stdout",
          "text": [
            "3\n"
          ]
        }
      ]
    },
    {
      "cell_type": "code",
      "source": [
        "# Criação de um dicionário com estados e suas capitais\n",
        "state_capitals = {\n",
        "    'Alabama': 'Montgomery',\n",
        "    'Alaska': 'Juneau',\n",
        "    'Arizona': 'Phoenix',\n",
        "    'Arkansas': 'Little Rock',\n",
        "    'California': 'Sacramento',\n",
        "}\n",
        "\n",
        "# Atribuição da capital da Califórnia à variável ca_capital\n",
        "ca_capital = state_capitals['California']\n",
        "print(ca_capital)  # Saída: Sacramento\n",
        "\n",
        "# Loop que percorre todas as chaves (estados) no dicionário state_capitals\n",
        "for k in state_capitals.keys():\n",
        "    # Imprime a capital e o estado correspondente\n",
        "    print('{} is the capital of {}'.format(state_capitals[k], k))\n",
        "    # Saída:\n",
        "    # Montgomery is the capital of Alabama\n",
        "    # Juneau is the capital of Alaska\n",
        "    # Phoenix is the capital of Arizona\n",
        "    # Little Rock is the capital of Arkansas\n",
        "    # Sacramento is the capital of California\n"
      ],
      "metadata": {
        "colab": {
          "base_uri": "https://localhost:8080/"
        },
        "id": "YfcRCrFSnAZe",
        "outputId": "4c8f8930-e8d2-4a9e-859e-c3bbf9ba5087"
      },
      "execution_count": 93,
      "outputs": [
        {
          "output_type": "stream",
          "name": "stdout",
          "text": [
            "Sacramento\n",
            "Montgomery is the capital of Alabama\n",
            "Juneau is the capital of Alaska\n",
            "Phoenix is the capital of Arizona\n",
            "Little Rock is the capital of Arkansas\n",
            "Sacramento is the capital of California\n"
          ]
        }
      ]
    }
  ],
  "metadata": {
    "colab": {
      "provenance": [],
      "authorship_tag": "ABX9TyOMbepHJvrhNzFcW0H+0NJC",
      "include_colab_link": true
    },
    "kernelspec": {
      "display_name": "Python 3",
      "name": "python3"
    },
    "language_info": {
      "name": "python"
    }
  },
  "nbformat": 4,
  "nbformat_minor": 0
}