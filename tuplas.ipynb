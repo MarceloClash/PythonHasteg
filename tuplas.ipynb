{
  "nbformat": 4,
  "nbformat_minor": 0,
  "metadata": {
    "colab": {
      "provenance": [],
      "authorship_tag": "ABX9TyOBiulzkGlEBzlqOdAM0xDm",
      "include_colab_link": true
    },
    "kernelspec": {
      "name": "python3",
      "display_name": "Python 3"
    },
    "language_info": {
      "name": "python"
    }
  },
  "cells": [
    {
      "cell_type": "markdown",
      "metadata": {
        "id": "view-in-github",
        "colab_type": "text"
      },
      "source": [
        "<a href=\"https://colab.research.google.com/github/MarceloClash/PythonHasteg/blob/main/tuplas.ipynb\" target=\"_parent\"><img src=\"https://colab.research.google.com/assets/colab-badge.svg\" alt=\"Open In Colab\"/></a>"
      ]
    },
    {
      "cell_type": "code",
      "source": [
        "# Inicializa uma lista vazia para armazenar as vendas\n",
        "vendas = []\n",
        "\n",
        "# Inicia um loop infinito para capturar os produtos vendidos\n",
        "while True:\n",
        "    # Solicita o nome do produto\n",
        "    produto = input('Qual o produto?')\n",
        "\n",
        "    # Verifica se o usuário não digitou nada e encerra o loop\n",
        "    if not produto:\n",
        "        break\n",
        "\n",
        "    # Solicita a quantidade do produto vendida e converte para inteiro\n",
        "    qtde = int(input('Qual a quantidade?'))\n",
        "\n",
        "    # Adiciona o produto e a quantidade como uma lista na lista de vendas\n",
        "    vendas.append([produto, qtde])\n",
        "\n",
        "# Exibe a lista de vendas\n",
        "print(vendas)\n"
      ],
      "metadata": {
        "colab": {
          "base_uri": "https://localhost:8080/"
        },
        "id": "jp47U1ZrKsVo",
        "outputId": "b00a9013-d3f7-4275-b814-4c4d71574012"
      },
      "execution_count": 5,
      "outputs": [
        {
          "output_type": "stream",
          "name": "stdout",
          "text": [
            "Qual o produto?maça\n",
            "Qual a quantidade?5\n",
            "Qual o produto?vinho \n",
            "Qual a quantidade?10\n",
            "Qual o produto?\n",
            "[['maça', 5], ['vinho ', 10]]\n"
          ]
        }
      ]
    },
    {
      "cell_type": "markdown",
      "source": [
        "# TUPLAS\n",
        "ESTRUTURAS:<br>\n",
        "TUPLA = (VALOR, VALOR, VALOR)<br>\n",
        "DIFERENÇA:\n",
        "PARECE UMA LISTA, MAS É IMUTÁVEL<br>\n",
        "VANTAGENS:\n",
        "- MAIS EFICIENTE EM TERMOS DE PERFORMAÇE\n",
        "- PROTEGE A BASE DE DADOS POR SER IMUTAVEL\n",
        "- MUITO USADO PARA DADOS HETEROGENIO\n"
      ],
      "metadata": {
        "id": "ffvsv6u2MoyE"
      }
    },
    {
      "cell_type": "code",
      "source": [
        "vendas = ('Marcelo', '29/06/1983', '25/01/2025', '5000', 'Progamador')\n",
        "print(vendas)"
      ],
      "metadata": {
        "colab": {
          "base_uri": "https://localhost:8080/"
        },
        "id": "q6HdhflgMiPT",
        "outputId": "13f25d9b-20a5-4d8f-f646-47ed04d11193"
      },
      "execution_count": 8,
      "outputs": [
        {
          "output_type": "stream",
          "name": "stdout",
          "text": [
            "('Marcelo', '29/06/1983', '25/01/2025', '5000', 'Progamador')\n"
          ]
        }
      ]
    },
    {
      "cell_type": "code",
      "source": [
        "# Inicializa uma lista vazia para armazenar os dados do funcionário\n",
        "funcionario = []\n",
        "\n",
        "# Solicita o nome do funcionário e adiciona à lista\n",
        "nome = input('Qual o nome do funcionário?')\n",
        "funcionario.append(nome)\n",
        "\n",
        "# Solicita a data de nascimento e adiciona à lista\n",
        "data_nascimento = input('Qual a data de nascimento?')\n",
        "funcionario.append(data_nascimento)\n",
        "\n",
        "# Solicita a data de contratação e adiciona à lista\n",
        "data_contrato = input('Qual a data de contratação?')\n",
        "funcionario.append(data_contrato)\n",
        "\n",
        "# Solicita o salário e adiciona à lista\n",
        "salario = input('Qual o salário?')\n",
        "funcionario.append(salario)\n",
        "\n",
        "# Solicita o cargo e adiciona à lista\n",
        "cargo = input('Qual o cargo?')\n",
        "funcionario.append(cargo)\n",
        "\n",
        "# Imprime as informações do funcionário usando formatação de strings\n",
        "print('O funcionário {}, sua data de aniversário é {} foi contratado em {} com salário de R${} no cargo de {}'.format(funcionario[0], funcionario[1], funcionario[2], funcionario[3], funcionario[4]))\n"
      ],
      "metadata": {
        "colab": {
          "base_uri": "https://localhost:8080/"
        },
        "id": "-9M8V8ciOTFz",
        "outputId": "7333648d-324b-475b-c7be-38bbc4243ccc"
      },
      "execution_count": 19,
      "outputs": [
        {
          "output_type": "stream",
          "name": "stdout",
          "text": [
            "Qual o nome do funcionário?marcelo\n",
            "Qual a data de nascimento?29/06/1983\n",
            "Qual a data de contratação?20/01/2025\n",
            "Qual o salário?5000\n",
            "Qual o cargo?progamador\n",
            "O funcionário marcelo, sua data de aniversário é 29/06/1983 foi contratado em 20/01/2025 com salário de R$5000 no cargo de progamador\n"
          ]
        }
      ]
    },
    {
      "cell_type": "code",
      "source": [
        "nome , data_nascimento, data_contrato, salario, cargo = vendas\n",
        "print(nome)\n",
        "print(data_nascimento)\n",
        "print(data_contrato)\n",
        "print(salario)\n",
        "print(cargo)\n"
      ],
      "metadata": {
        "colab": {
          "base_uri": "https://localhost:8080/"
        },
        "id": "WPSAIE-oQIA_",
        "outputId": "468ebcde-eff8-43a6-d413-8932b61d4144"
      },
      "execution_count": 18,
      "outputs": [
        {
          "output_type": "stream",
          "name": "stdout",
          "text": [
            "Marcelo\n",
            "29/06/1983\n",
            "25/01/2025\n",
            "5000\n",
            "Progamador\n"
          ]
        }
      ]
    },
    {
      "cell_type": "code",
      "source": [],
      "metadata": {
        "id": "_Fwjyy9nR7OR"
      },
      "execution_count": null,
      "outputs": []
    }
  ]
}