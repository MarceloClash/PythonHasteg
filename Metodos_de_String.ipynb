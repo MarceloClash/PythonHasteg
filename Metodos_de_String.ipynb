{
  "nbformat": 4,
  "nbformat_minor": 0,
  "metadata": {
    "colab": {
      "provenance": [],
      "authorship_tag": "ABX9TyO/UTpGDgYYJzIhDfuqAb1i",
      "include_colab_link": true
    },
    "kernelspec": {
      "name": "python3",
      "display_name": "Python 3"
    },
    "language_info": {
      "name": "python"
    }
  },
  "cells": [
    {
      "cell_type": "markdown",
      "metadata": {
        "id": "view-in-github",
        "colab_type": "text"
      },
      "source": [
        "<a href=\"https://colab.research.google.com/github/MarceloClash/PythonHasteg/blob/main/Metodos_de_String.ipynb\" target=\"_parent\"><img src=\"https://colab.research.google.com/assets/colab-badge.svg\" alt=\"Open In Colab\"/></a>"
      ]
    },
    {
      "cell_type": "markdown",
      "source": [
        "#1. capitalize()\n",
        "Converte o primeiro caractere da string para maiúscula."
      ],
      "metadata": {
        "id": "Iz5vZNTZWkIF"
      }
    },
    {
      "cell_type": "code",
      "execution_count": 1,
      "metadata": {
        "colab": {
          "base_uri": "https://localhost:8080/"
        },
        "id": "IOpxk_gUWXOH",
        "outputId": "5e7300a6-526a-4624-f793-179c403917ae"
      },
      "outputs": [
        {
          "output_type": "stream",
          "name": "stdout",
          "text": [
            "Exemplo de texto\n"
          ]
        }
      ],
      "source": [
        "texto = \"exemplo de texto\"\n",
        "print(texto.capitalize())  # Saída: Exemplo de texto\n"
      ]
    },
    {
      "cell_type": "markdown",
      "source": [
        "#2. upper()\n",
        "Converte todos os caracteres da string para maiúscula"
      ],
      "metadata": {
        "id": "QSgpKABlWxOt"
      }
    },
    {
      "cell_type": "code",
      "source": [
        "texto = \"exemplo de texto\"\n",
        "print(texto.upper())  # Saída: EXEMPLO DE TEXTO\n"
      ],
      "metadata": {
        "colab": {
          "base_uri": "https://localhost:8080/"
        },
        "id": "8tRddPo6W7HX",
        "outputId": "d3b58c49-63e4-46df-e815-045d6eeff3d1"
      },
      "execution_count": 2,
      "outputs": [
        {
          "output_type": "stream",
          "name": "stdout",
          "text": [
            "EXEMPLO DE TEXTO\n"
          ]
        }
      ]
    },
    {
      "cell_type": "markdown",
      "source": [
        "#3. lower()\n",
        "Converte todos os caracteres da string para minúscula."
      ],
      "metadata": {
        "id": "Zcww1F_oXI3E"
      }
    },
    {
      "cell_type": "code",
      "source": [
        "texto = \"EXEMPLO DE TEXTO\"\n",
        "print(texto.lower())  # Saída: exemplo de texto\n"
      ],
      "metadata": {
        "id": "Br8764t3XUyP"
      },
      "execution_count": null,
      "outputs": []
    },
    {
      "cell_type": "markdown",
      "source": [
        "#4. replace()\n",
        "Substitui uma substring por outra"
      ],
      "metadata": {
        "id": "pyzuH9lIXXgO"
      }
    },
    {
      "cell_type": "code",
      "source": [
        "texto = \"exemplo de texto\"\n",
        "print(texto.replace(\"texto\", \"palavra\"))  # Saída: exemplo de palavra\n"
      ],
      "metadata": {
        "colab": {
          "base_uri": "https://localhost:8080/"
        },
        "id": "ISe_D3pIXhNE",
        "outputId": "6d7649aa-e06d-4da0-d2d7-85ab105c22f0"
      },
      "execution_count": 4,
      "outputs": [
        {
          "output_type": "stream",
          "name": "stdout",
          "text": [
            "exemplo de palavra\n"
          ]
        }
      ]
    },
    {
      "cell_type": "markdown",
      "source": [
        "5. split()\n",
        "Divide a string em uma lista, usando um delimitador."
      ],
      "metadata": {
        "id": "ZO8q6W8LXoMr"
      }
    },
    {
      "cell_type": "code",
      "source": [
        "texto = \"exemplo de texto\"\n",
        "print(texto.split())  # Saída: ['exemplo', 'de', 'texto']\n"
      ],
      "metadata": {
        "colab": {
          "base_uri": "https://localhost:8080/"
        },
        "id": "XoY5EUIBXtwg",
        "outputId": "d20e7b3a-bdb5-4af6-f0e2-d3b966e8270c"
      },
      "execution_count": 3,
      "outputs": [
        {
          "output_type": "stream",
          "name": "stdout",
          "text": [
            "['exemplo', 'de', 'texto']\n"
          ]
        }
      ]
    },
    {
      "cell_type": "markdown",
      "source": [
        "#6. join()\n",
        "Concatena os elementos de uma lista em uma única string."
      ],
      "metadata": {
        "id": "v88yqWMxX8qA"
      }
    },
    {
      "cell_type": "code",
      "source": [
        "lista = ['exemplo', 'de', 'texto']\n",
        "print(\" \".join(lista))  # Saída: exemplo de texto\n"
      ],
      "metadata": {
        "colab": {
          "base_uri": "https://localhost:8080/"
        },
        "id": "5CcMj9n7YIjj",
        "outputId": "816fb9e7-a290-4309-b31f-cd4504fcaf80"
      },
      "execution_count": 5,
      "outputs": [
        {
          "output_type": "stream",
          "name": "stdout",
          "text": [
            "exemplo de texto\n"
          ]
        }
      ]
    },
    {
      "cell_type": "markdown",
      "source": [
        "#7. strip()\n",
        "Remove espaços em branco no início e no final da string"
      ],
      "metadata": {
        "id": "4bx_vOvgYQx3"
      }
    },
    {
      "cell_type": "code",
      "source": [
        "texto = \"   exemplo de texto   \"\n",
        "print(texto.strip())  # Saída: exemplo de texto\n"
      ],
      "metadata": {
        "colab": {
          "base_uri": "https://localhost:8080/"
        },
        "id": "qU3e60lVYa1J",
        "outputId": "19a35760-501e-407e-81f4-197363d98e03"
      },
      "execution_count": 6,
      "outputs": [
        {
          "output_type": "stream",
          "name": "stdout",
          "text": [
            "exemplo de texto\n"
          ]
        }
      ]
    },
    {
      "cell_type": "markdown",
      "source": [
        "#8. find()\n",
        "\n",
        "Encontra a posição da primeira ocorrência de uma substring.Procura um texto dentro de outro texto e dá como resposta a posição"
      ],
      "metadata": {
        "id": "9IKialODYw3a"
      }
    },
    {
      "cell_type": "code",
      "source": [
        "texto = \"exemplo de texto\"\n",
        "print(texto.find(\"texto\"))  # Saída: 11\n"
      ],
      "metadata": {
        "colab": {
          "base_uri": "https://localhost:8080/"
        },
        "id": "-VzAD1rVYkut",
        "outputId": "86aecc8a-9777-4689-9fcf-b6bb95e12a37"
      },
      "execution_count": 7,
      "outputs": [
        {
          "output_type": "stream",
          "name": "stdout",
          "text": [
            "11\n"
          ]
        }
      ]
    },
    {
      "cell_type": "markdown",
      "source": [
        "#9. casefold()\n",
        "Tranforma todas as letras em minusculas"
      ],
      "metadata": {
        "id": "iJvRaordZY2a"
      }
    },
    {
      "cell_type": "code",
      "source": [
        "\n",
        "texto = \"Exemplo de Texto\"\n",
        "print(texto.casefold())  # Saída: exemplo de texto\n",
        "\n",
        "#"
      ],
      "metadata": {
        "colab": {
          "base_uri": "https://localhost:8080/"
        },
        "id": "s4bjKFqgZp0M",
        "outputId": "ecf7c3e0-1b86-42aa-d3b9-7fb18e920ff4"
      },
      "execution_count": 9,
      "outputs": [
        {
          "output_type": "stream",
          "name": "stdout",
          "text": [
            "exemplo de texto\n"
          ]
        }
      ]
    },
    {
      "cell_type": "markdown",
      "source": [
        "#10. count()\n",
        "Quantidade de vezes que um valor aparece na string\n"
      ],
      "metadata": {
        "id": "oNtwJiQ9Z7zQ"
      }
    },
    {
      "cell_type": "code",
      "source": [
        "texto = 'marcelo@gmail.com.br'\n",
        "print(texto.count('m')) # saída: 2"
      ],
      "metadata": {
        "colab": {
          "base_uri": "https://localhost:8080/"
        },
        "id": "_N7Op6MOaJUf",
        "outputId": "fe5bc307-a443-44b5-dcf8-13ed0f888b40"
      },
      "execution_count": 18,
      "outputs": [
        {
          "output_type": "stream",
          "name": "stdout",
          "text": [
            "3\n"
          ]
        }
      ]
    },
    {
      "cell_type": "markdown",
      "source": [
        "#11. endswidth()\n",
        "Verifica se o texto termina com um valor especifico e da como resposta True ou False"
      ],
      "metadata": {
        "id": "1N5T7UcjbRor"
      }
    },
    {
      "cell_type": "code",
      "source": [
        "texto = 'marcelo@gmail.com.br'\n",
        "print(texto.endswith('br')) # saída: True"
      ],
      "metadata": {
        "colab": {
          "base_uri": "https://localhost:8080/"
        },
        "id": "6XzUIf5SbolL",
        "outputId": "c4a350d0-624f-44a0-abba-f4bd2ac9c4ae"
      },
      "execution_count": 19,
      "outputs": [
        {
          "output_type": "stream",
          "name": "stdout",
          "text": [
            "True\n"
          ]
        }
      ]
    },
    {
      "cell_type": "markdown",
      "source": [
        "#12.islnum()\n",
        "Verifica se um texto é todo feito com caracteres alfanuméricos (letras e numeros)"
      ],
      "metadata": {
        "id": "ATz0gC6Bb6Ro"
      }
    },
    {
      "cell_type": "code",
      "source": [
        "texto = 'marcelo@gmail.com.br'\n",
        "print(texto.isalnum()) # saída: False"
      ],
      "metadata": {
        "colab": {
          "base_uri": "https://localhost:8080/"
        },
        "id": "eKiO9qtwcxbW",
        "outputId": "0e241c98-3046-4df4-ae81-5008f28928e9"
      },
      "execution_count": 20,
      "outputs": [
        {
          "output_type": "stream",
          "name": "stdout",
          "text": [
            "False\n"
          ]
        }
      ]
    },
    {
      "cell_type": "markdown",
      "source": [
        "#13.isalpha()\n",
        "verifica se um texto é todo feito de letras"
      ],
      "metadata": {
        "id": "b4TxHCwvc4sD"
      }
    },
    {
      "cell_type": "code",
      "source": [
        "texto = 'marcelo'\n",
        "print(texto.isalpha()) # saída: True"
      ],
      "metadata": {
        "colab": {
          "base_uri": "https://localhost:8080/"
        },
        "id": "1yKgwX74dF4k",
        "outputId": "96809c6f-f461-41ac-c7f9-645d3b5e567c"
      },
      "execution_count": 23,
      "outputs": [
        {
          "output_type": "stream",
          "name": "stdout",
          "text": [
            "True\n"
          ]
        }
      ]
    },
    {
      "cell_type": "markdown",
      "source": [
        "#13.isnumeric()\n",
        "Verifica se um texto é todo feito por números"
      ],
      "metadata": {
        "id": "ifd2DPdedQ4N"
      }
    },
    {
      "cell_type": "code",
      "source": [
        "texto = '123456'\n",
        "print(texto.isnumeric()) # saída: True"
      ],
      "metadata": {
        "colab": {
          "base_uri": "https://localhost:8080/"
        },
        "id": "SXiS1dZSdc1U",
        "outputId": "9469614b-c9b6-4517-9b17-40c56a2ca22c"
      },
      "execution_count": 24,
      "outputs": [
        {
          "output_type": "stream",
          "name": "stdout",
          "text": [
            "True\n"
          ]
        }
      ]
    },
    {
      "cell_type": "code",
      "source": [
        "texto = '1000.00'\n",
        "print(texto.replace('.' ,','))"
      ],
      "metadata": {
        "colab": {
          "base_uri": "https://localhost:8080/"
        },
        "id": "Yb72FH51d5ex",
        "outputId": "ddd5139f-d9b1-4f41-e2ab-692194a12309"
      },
      "execution_count": 26,
      "outputs": [
        {
          "output_type": "stream",
          "name": "stdout",
          "text": [
            "1000,00\n"
          ]
        }
      ]
    },
    {
      "cell_type": "code",
      "source": [
        "texto = 'marcelo@gmail.com.br'\n",
        "print(texto.split('@'))"
      ],
      "metadata": {
        "colab": {
          "base_uri": "https://localhost:8080/"
        },
        "id": "HNNiZFl-eiDW",
        "outputId": "5359b32a-6c9b-428f-d444-dc67a04f8c4e"
      },
      "execution_count": 36,
      "outputs": [
        {
          "output_type": "stream",
          "name": "stdout",
          "text": [
            "['marcelo', 'gmail.com.br']\n"
          ]
        }
      ]
    },
    {
      "cell_type": "code",
      "source": [
        "texto = '  BEB789456123  '\n",
        "print(texto.strip())"
      ],
      "metadata": {
        "colab": {
          "base_uri": "https://localhost:8080/"
        },
        "id": "Suf-sQbyf1j_",
        "outputId": "728b77f7-c40b-4f49-d126-01b83066feba"
      },
      "execution_count": 37,
      "outputs": [
        {
          "output_type": "stream",
          "name": "stdout",
          "text": [
            "BEB789456123\n"
          ]
        }
      ]
    }
  ]
}